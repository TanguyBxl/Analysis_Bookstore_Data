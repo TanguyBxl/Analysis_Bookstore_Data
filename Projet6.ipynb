{
 "cells": [
  {
   "cell_type": "markdown",
   "metadata": {},
   "source": [
    "### Table of Contents\n",
    "\n",
    "\n",
    "* [Chapter 1: Nos tables initiales](#chapter1)\n",
    "    * [Section 1.1:La question des produits non-référencés](#section_1_1)\n",
    "    * [Section 2.2: La question des dates](#section_1_2)\n",
    "    * [Section 1.3: Le df final](#section_1_3)\n",
    "* [Chapter 2: Les demandes d'Antoine](#chapter2)\n",
    "    * [Section 2.1: Indicateurs et graphiques autour du CA (+ évolution dans le temps)](#section_2_1)\n",
    "    * [Section 2.2: La répartition du CA](#section_2_2)\n",
    "    * [Section 2.3: Zoom sur les références (tops/flops)](#section_2_3)\n",
    "    * [Section 2.4: Quelques informations sur les profils de nos clients](#section_2_4)\n",
    "* [Chapter 3: Les demandes Julie](#chapter3)\n",
    "    * [Section 3.1: le lien entre le genre d’un client et les catégories des livres achetés](#section_3_1)\n",
    "    * [Section 3.2: le lien entre l'âge des clients et le montant total des achats ](#section_3_2)\n",
    "    * [Section 3.3: le lien entre l'âge des clients et la fréquence d'achat](#section_3_3)\n",
    "    * [Section 3.4: le lien entre l'âge des clients et la taille du panier moyen](#section_3_4)\n",
    "    * [Section 3.5: le lien entre l'âge des clients et les catégories des livres achetés](#section_3_5)\n",
    "    * [Section 3.6: La probabilité qu’un client achète la référence 0_525 sachant qu’il a acheté la référence 2_159](#section_3_6)\n",
    "    \n",
    "    \n",
    "    "
   ]
  },
  {
   "cell_type": "markdown",
   "metadata": {},
   "source": [
    "# Chapter 1: Nos tables initiales <a class=\"anchor\" id=\"chapter1\"></a>"
   ]
  },
  {
   "cell_type": "code",
   "execution_count": 1,
   "metadata": {},
   "outputs": [],
   "source": [
    "import pandas as pd\n",
    "import numpy as np\n",
    "import csv\n",
    "import matplotlib.pyplot as plt"
   ]
  },
  {
   "cell_type": "code",
   "execution_count": 2,
   "metadata": {},
   "outputs": [],
   "source": [
    "df_customers = pd.read_csv(r\"C:\\Users\\tangu\\OneDrive\\Bureau\\customers.csv\")\n",
    "df_transactions = pd.read_csv(r\"C:\\Users\\tangu\\OneDrive\\Bureau\\transactions.csv\")\n",
    "df_products = pd.read_csv(r\"C:\\Users\\tangu\\OneDrive\\Bureau\\products.csv\")"
   ]
  },
  {
   "cell_type": "code",
   "execution_count": 3,
   "metadata": {},
   "outputs": [
    {
     "name": "stdout",
     "output_type": "stream",
     "text": [
      "<class 'pandas.core.frame.DataFrame'>\n",
      "RangeIndex: 8623 entries, 0 to 8622\n",
      "Data columns (total 3 columns):\n",
      " #   Column     Non-Null Count  Dtype \n",
      "---  ------     --------------  ----- \n",
      " 0   client_id  8623 non-null   object\n",
      " 1   sex        8623 non-null   object\n",
      " 2   birth      8623 non-null   int64 \n",
      "dtypes: int64(1), object(2)\n",
      "memory usage: 202.2+ KB\n"
     ]
    }
   ],
   "source": [
    "df_customers.info()"
   ]
  },
  {
   "cell_type": "code",
   "execution_count": 4,
   "metadata": {},
   "outputs": [
    {
     "name": "stdout",
     "output_type": "stream",
     "text": [
      "<class 'pandas.core.frame.DataFrame'>\n",
      "RangeIndex: 679532 entries, 0 to 679531\n",
      "Data columns (total 4 columns):\n",
      " #   Column      Non-Null Count   Dtype \n",
      "---  ------      --------------   ----- \n",
      " 0   id_prod     679532 non-null  object\n",
      " 1   date        679532 non-null  object\n",
      " 2   session_id  679532 non-null  object\n",
      " 3   client_id   679532 non-null  object\n",
      "dtypes: object(4)\n",
      "memory usage: 20.7+ MB\n"
     ]
    }
   ],
   "source": [
    "df_transactions.info()"
   ]
  },
  {
   "cell_type": "code",
   "execution_count": 5,
   "metadata": {},
   "outputs": [
    {
     "name": "stdout",
     "output_type": "stream",
     "text": [
      "<class 'pandas.core.frame.DataFrame'>\n",
      "RangeIndex: 3287 entries, 0 to 3286\n",
      "Data columns (total 3 columns):\n",
      " #   Column   Non-Null Count  Dtype  \n",
      "---  ------   --------------  -----  \n",
      " 0   id_prod  3287 non-null   object \n",
      " 1   price    3287 non-null   float64\n",
      " 2   categ    3287 non-null   int64  \n",
      "dtypes: float64(1), int64(1), object(1)\n",
      "memory usage: 77.2+ KB\n"
     ]
    }
   ],
   "source": [
    "df_products.info()"
   ]
  },
  {
   "cell_type": "code",
   "execution_count": 6,
   "metadata": {},
   "outputs": [],
   "source": [
    "# Créons notre table de travail\n",
    "df_customers.drop_duplicates(subset = \"client_id\", inplace = True) \n",
    "df_products.drop_duplicates(subset = \"id_prod\", inplace = True)"
   ]
  },
  {
   "cell_type": "code",
   "execution_count": 7,
   "metadata": {},
   "outputs": [
    {
     "data": {
      "text/plain": [
       "\"\\nNous nous baserons toujours sur la table transaction qui fait le pont:\\n- un individu qui n'est pas présent dans la table transaction n'est pas un client. Donc il ne sera pas pris en considération\\n- des articles non présents dans la table transaction sont un catalogue, ne participant pas au CA\\n\""
      ]
     },
     "execution_count": 7,
     "metadata": {},
     "output_type": "execute_result"
    }
   ],
   "source": [
    "\"\"\"\n",
    "Nous nous baserons toujours sur la table transaction qui fait le pont:\n",
    "- un individu qui n'est pas présent dans la table transaction n'est pas un client. Donc il ne sera pas pris en considération\n",
    "- des articles non présents dans la table transaction sont un catalogue, ne participant pas au CA\n",
    "\"\"\""
   ]
  },
  {
   "cell_type": "code",
   "execution_count": 8,
   "metadata": {},
   "outputs": [],
   "source": [
    "df_intermediaire = df_transactions.merge(df_customers, how = 'left', on = 'client_id')"
   ]
  },
  {
   "cell_type": "code",
   "execution_count": 9,
   "metadata": {},
   "outputs": [],
   "source": [
    "df_final = df_intermediaire.merge(df_products, how = \"left\", on = \"id_prod\")"
   ]
  },
  {
   "cell_type": "code",
   "execution_count": 10,
   "metadata": {},
   "outputs": [
    {
     "name": "stdout",
     "output_type": "stream",
     "text": [
      "<class 'pandas.core.frame.DataFrame'>\n",
      "Int64Index: 679532 entries, 0 to 679531\n",
      "Data columns (total 8 columns):\n",
      " #   Column      Non-Null Count   Dtype  \n",
      "---  ------      --------------   -----  \n",
      " 0   session_id  679532 non-null  object \n",
      " 1   date        679532 non-null  object \n",
      " 2   client_id   679532 non-null  object \n",
      " 3   sex         679532 non-null  object \n",
      " 4   birth       679532 non-null  int64  \n",
      " 5   id_prod     679532 non-null  object \n",
      " 6   price       679311 non-null  float64\n",
      " 7   categ       679311 non-null  float64\n",
      "dtypes: float64(2), int64(1), object(5)\n",
      "memory usage: 46.7+ MB\n"
     ]
    }
   ],
   "source": [
    "df_final = df_final.reindex(columns = [\"session_id\",\"date\",\"client_id\",\"sex\",\"birth\",\"id_prod\",\"price\",\"categ\"])\n",
    "df_final.info()"
   ]
  },
  {
   "cell_type": "markdown",
   "metadata": {},
   "source": [
    "### Section 1.1: La question des produits non-référencés <a class=\"anchor\" id=\"section_1_1\"></a>"
   ]
  },
  {
   "cell_type": "code",
   "execution_count": 11,
   "metadata": {},
   "outputs": [
    {
     "data": {
      "text/plain": [
       "\" \\nici on remarque que parmi nos valeurs, 221 lignes n'ont pas de 'price' ou de 'categ' renseigné (voire les 2)\\nnous pouvons donc en déduire que dans la table transaction, il y a des id_prod qui ne sont pas référencés dans df_products:\\nimpossible donc de connaître le prix ou la catégorie de ces produits \\nSi on ne peut pas obtenir ces informations, les lignes concernées ne sont pas pertinentes: nous allons les supprimer. \\n\""
      ]
     },
     "execution_count": 11,
     "metadata": {},
     "output_type": "execute_result"
    }
   ],
   "source": [
    "\"\"\" \n",
    "ici on remarque que parmi nos valeurs, 221 lignes n'ont pas de 'price' ou de 'categ' renseigné (voire les 2)\n",
    "nous pouvons donc en déduire que dans la table transaction, il y a des id_prod qui ne sont pas référencés dans df_products:\n",
    "impossible donc de connaître le prix ou la catégorie de ces produits \n",
    "Si on ne peut pas obtenir ces informations, les lignes concernées ne sont pas pertinentes: nous allons les supprimer. \n",
    "\"\"\""
   ]
  },
  {
   "cell_type": "code",
   "execution_count": 12,
   "metadata": {},
   "outputs": [],
   "source": [
    "df_final.dropna(how = 'any', subset = [\"price\",\"categ\"], inplace = True )"
   ]
  },
  {
   "cell_type": "code",
   "execution_count": 13,
   "metadata": {},
   "outputs": [
    {
     "data": {
      "text/html": [
       "<div>\n",
       "<style scoped>\n",
       "    .dataframe tbody tr th:only-of-type {\n",
       "        vertical-align: middle;\n",
       "    }\n",
       "\n",
       "    .dataframe tbody tr th {\n",
       "        vertical-align: top;\n",
       "    }\n",
       "\n",
       "    .dataframe thead th {\n",
       "        text-align: right;\n",
       "    }\n",
       "</style>\n",
       "<table border=\"1\" class=\"dataframe\">\n",
       "  <thead>\n",
       "    <tr style=\"text-align: right;\">\n",
       "      <th></th>\n",
       "      <th>id_prod</th>\n",
       "      <th>date</th>\n",
       "      <th>session_id</th>\n",
       "      <th>client_id</th>\n",
       "      <th>price</th>\n",
       "      <th>categ</th>\n",
       "      <th>_merge</th>\n",
       "    </tr>\n",
       "  </thead>\n",
       "  <tbody>\n",
       "    <tr>\n",
       "      <th>542560</th>\n",
       "      <td>0_2245</td>\n",
       "      <td>2022-09-23 07:22:38.636773</td>\n",
       "      <td>s_272266</td>\n",
       "      <td>c_4746</td>\n",
       "      <td>NaN</td>\n",
       "      <td>NaN</td>\n",
       "      <td>left_only</td>\n",
       "    </tr>\n",
       "    <tr>\n",
       "      <th>542561</th>\n",
       "      <td>0_2245</td>\n",
       "      <td>2022-07-23 09:24:14.133889</td>\n",
       "      <td>s_242482</td>\n",
       "      <td>c_6713</td>\n",
       "      <td>NaN</td>\n",
       "      <td>NaN</td>\n",
       "      <td>left_only</td>\n",
       "    </tr>\n",
       "    <tr>\n",
       "      <th>542562</th>\n",
       "      <td>0_2245</td>\n",
       "      <td>2022-12-03 03:26:35.696673</td>\n",
       "      <td>s_306338</td>\n",
       "      <td>c_5108</td>\n",
       "      <td>NaN</td>\n",
       "      <td>NaN</td>\n",
       "      <td>left_only</td>\n",
       "    </tr>\n",
       "    <tr>\n",
       "      <th>542563</th>\n",
       "      <td>0_2245</td>\n",
       "      <td>2021-08-16 11:33:25.481411</td>\n",
       "      <td>s_76493</td>\n",
       "      <td>c_1391</td>\n",
       "      <td>NaN</td>\n",
       "      <td>NaN</td>\n",
       "      <td>left_only</td>\n",
       "    </tr>\n",
       "    <tr>\n",
       "      <th>542564</th>\n",
       "      <td>0_2245</td>\n",
       "      <td>2022-07-16 05:53:01.627491</td>\n",
       "      <td>s_239078</td>\n",
       "      <td>c_7954</td>\n",
       "      <td>NaN</td>\n",
       "      <td>NaN</td>\n",
       "      <td>left_only</td>\n",
       "    </tr>\n",
       "  </tbody>\n",
       "</table>\n",
       "</div>"
      ],
      "text/plain": [
       "       id_prod                        date session_id client_id  price  categ  \\\n",
       "542560  0_2245  2022-09-23 07:22:38.636773   s_272266    c_4746    NaN    NaN   \n",
       "542561  0_2245  2022-07-23 09:24:14.133889   s_242482    c_6713    NaN    NaN   \n",
       "542562  0_2245  2022-12-03 03:26:35.696673   s_306338    c_5108    NaN    NaN   \n",
       "542563  0_2245  2021-08-16 11:33:25.481411    s_76493    c_1391    NaN    NaN   \n",
       "542564  0_2245  2022-07-16 05:53:01.627491   s_239078    c_7954    NaN    NaN   \n",
       "\n",
       "           _merge  \n",
       "542560  left_only  \n",
       "542561  left_only  \n",
       "542562  left_only  \n",
       "542563  left_only  \n",
       "542564  left_only  "
      ]
     },
     "execution_count": 13,
     "metadata": {},
     "output_type": "execute_result"
    }
   ],
   "source": [
    "# nous pouvons tout de même regarder succintement à quoi ressemblaient ces produits:\n",
    "df_produits_nonAchetés = df_transactions.merge(df_products, how = \"outer\", on = \"id_prod\", indicator=True).query('_merge==\"left_only\"')\n",
    "df_produits_nonAchetés.head()\n",
    "# ces produits ne sont pas référencés"
   ]
  },
  {
   "cell_type": "code",
   "execution_count": 14,
   "metadata": {},
   "outputs": [
    {
     "name": "stdout",
     "output_type": "stream",
     "text": [
      "<class 'pandas.core.frame.DataFrame'>\n",
      "Int64Index: 679311 entries, 0 to 679531\n",
      "Data columns (total 8 columns):\n",
      " #   Column      Non-Null Count   Dtype  \n",
      "---  ------      --------------   -----  \n",
      " 0   session_id  679311 non-null  object \n",
      " 1   date        679311 non-null  object \n",
      " 2   client_id   679311 non-null  object \n",
      " 3   sex         679311 non-null  object \n",
      " 4   birth       679311 non-null  int64  \n",
      " 5   id_prod     679311 non-null  object \n",
      " 6   price       679311 non-null  float64\n",
      " 7   categ       679311 non-null  float64\n",
      "dtypes: float64(2), int64(1), object(5)\n",
      "memory usage: 46.6+ MB\n"
     ]
    }
   ],
   "source": [
    "df_final.info()"
   ]
  },
  {
   "cell_type": "markdown",
   "metadata": {},
   "source": [
    "### Section 1.2: La question des dates <a class=\"anchor\" id=\"section_1_2\"></a>"
   ]
  },
  {
   "cell_type": "code",
   "execution_count": 15,
   "metadata": {},
   "outputs": [
    {
     "data": {
      "text/html": [
       "<div>\n",
       "<style scoped>\n",
       "    .dataframe tbody tr th:only-of-type {\n",
       "        vertical-align: middle;\n",
       "    }\n",
       "\n",
       "    .dataframe tbody tr th {\n",
       "        vertical-align: top;\n",
       "    }\n",
       "\n",
       "    .dataframe thead th {\n",
       "        text-align: right;\n",
       "    }\n",
       "</style>\n",
       "<table border=\"1\" class=\"dataframe\">\n",
       "  <thead>\n",
       "    <tr style=\"text-align: right;\">\n",
       "      <th></th>\n",
       "      <th>session_id</th>\n",
       "      <th>date</th>\n",
       "      <th>client_id</th>\n",
       "      <th>sex</th>\n",
       "      <th>birth</th>\n",
       "      <th>id_prod</th>\n",
       "      <th>price</th>\n",
       "      <th>categ</th>\n",
       "    </tr>\n",
       "  </thead>\n",
       "  <tbody>\n",
       "    <tr>\n",
       "      <th>0</th>\n",
       "      <td>s_211425</td>\n",
       "      <td>2022-05-20 13:21:29.043970</td>\n",
       "      <td>c_103</td>\n",
       "      <td>f</td>\n",
       "      <td>1986</td>\n",
       "      <td>0_1518</td>\n",
       "      <td>4.18</td>\n",
       "      <td>0.0</td>\n",
       "    </tr>\n",
       "    <tr>\n",
       "      <th>1</th>\n",
       "      <td>s_158752</td>\n",
       "      <td>2022-02-02 07:55:19.149409</td>\n",
       "      <td>c_8534</td>\n",
       "      <td>m</td>\n",
       "      <td>1988</td>\n",
       "      <td>1_251</td>\n",
       "      <td>15.99</td>\n",
       "      <td>1.0</td>\n",
       "    </tr>\n",
       "    <tr>\n",
       "      <th>2</th>\n",
       "      <td>s_225667</td>\n",
       "      <td>2022-06-18 15:44:33.155329</td>\n",
       "      <td>c_6714</td>\n",
       "      <td>f</td>\n",
       "      <td>1968</td>\n",
       "      <td>0_1277</td>\n",
       "      <td>7.99</td>\n",
       "      <td>0.0</td>\n",
       "    </tr>\n",
       "    <tr>\n",
       "      <th>3</th>\n",
       "      <td>s_52962</td>\n",
       "      <td>2021-06-24 04:19:29.835891</td>\n",
       "      <td>c_6941</td>\n",
       "      <td>m</td>\n",
       "      <td>2000</td>\n",
       "      <td>2_209</td>\n",
       "      <td>69.99</td>\n",
       "      <td>2.0</td>\n",
       "    </tr>\n",
       "    <tr>\n",
       "      <th>4</th>\n",
       "      <td>s_325227</td>\n",
       "      <td>2023-01-11 08:22:08.194479</td>\n",
       "      <td>c_4232</td>\n",
       "      <td>m</td>\n",
       "      <td>1980</td>\n",
       "      <td>0_1509</td>\n",
       "      <td>4.99</td>\n",
       "      <td>0.0</td>\n",
       "    </tr>\n",
       "  </tbody>\n",
       "</table>\n",
       "</div>"
      ],
      "text/plain": [
       "  session_id                        date client_id sex  birth id_prod  price  \\\n",
       "0   s_211425  2022-05-20 13:21:29.043970     c_103   f   1986  0_1518   4.18   \n",
       "1   s_158752  2022-02-02 07:55:19.149409    c_8534   m   1988   1_251  15.99   \n",
       "2   s_225667  2022-06-18 15:44:33.155329    c_6714   f   1968  0_1277   7.99   \n",
       "3    s_52962  2021-06-24 04:19:29.835891    c_6941   m   2000   2_209  69.99   \n",
       "4   s_325227  2023-01-11 08:22:08.194479    c_4232   m   1980  0_1509   4.99   \n",
       "\n",
       "   categ  \n",
       "0    0.0  \n",
       "1    1.0  \n",
       "2    0.0  \n",
       "3    2.0  \n",
       "4    0.0  "
      ]
     },
     "execution_count": 15,
     "metadata": {},
     "output_type": "execute_result"
    }
   ],
   "source": [
    "# les dates sont très (trop) précises pour l'analyse de ventes de livres\n",
    "df_final.head()"
   ]
  },
  {
   "cell_type": "code",
   "execution_count": 16,
   "metadata": {},
   "outputs": [
    {
     "data": {
      "text/plain": [
       "200"
      ]
     },
     "execution_count": 16,
     "metadata": {},
     "output_type": "execute_result"
    }
   ],
   "source": [
    "valeurs_test = df_final.query('date.str.contains(\"test\")', engine = \"python\")\n",
    "len(valeurs_test)"
   ]
  },
  {
   "cell_type": "code",
   "execution_count": 17,
   "metadata": {},
   "outputs": [],
   "source": [
    "index_valeurs_test = valeurs_test.index"
   ]
  },
  {
   "cell_type": "code",
   "execution_count": 18,
   "metadata": {},
   "outputs": [],
   "source": [
    "df_final.drop(index_valeurs_test, inplace = True)"
   ]
  },
  {
   "cell_type": "code",
   "execution_count": 19,
   "metadata": {},
   "outputs": [
    {
     "name": "stdout",
     "output_type": "stream",
     "text": [
      "       session_id                        date client_id sex  birth id_prod  \\\n",
      "0        s_211425  2022-05-20 13:21:29.043970     c_103   f   1986  0_1518   \n",
      "448454   s_211425  2022-05-20 13:21:10.122134     c_103   f   1986   1_271   \n",
      "\n",
      "        price  categ  \n",
      "0        4.18    0.0  \n",
      "448454  16.99    1.0  \n"
     ]
    }
   ],
   "source": [
    "print( df_final[df_final['session_id'] == 's_211425']  )"
   ]
  },
  {
   "cell_type": "code",
   "execution_count": 20,
   "metadata": {},
   "outputs": [],
   "source": [
    "df_final['date'] = pd.to_datetime(df_final['date'])\n",
    "df_final[\"date_jours\"] = df_final[\"date\"].dt.date\n",
    "del df_final[\"date\"]"
   ]
  },
  {
   "cell_type": "code",
   "execution_count": 21,
   "metadata": {},
   "outputs": [
    {
     "data": {
      "text/html": [
       "<div>\n",
       "<style scoped>\n",
       "    .dataframe tbody tr th:only-of-type {\n",
       "        vertical-align: middle;\n",
       "    }\n",
       "\n",
       "    .dataframe tbody tr th {\n",
       "        vertical-align: top;\n",
       "    }\n",
       "\n",
       "    .dataframe thead th {\n",
       "        text-align: right;\n",
       "    }\n",
       "</style>\n",
       "<table border=\"1\" class=\"dataframe\">\n",
       "  <thead>\n",
       "    <tr style=\"text-align: right;\">\n",
       "      <th></th>\n",
       "      <th>session_id</th>\n",
       "      <th>client_id</th>\n",
       "      <th>sex</th>\n",
       "      <th>birth</th>\n",
       "      <th>id_prod</th>\n",
       "      <th>price</th>\n",
       "      <th>categ</th>\n",
       "      <th>date_jours</th>\n",
       "    </tr>\n",
       "  </thead>\n",
       "  <tbody>\n",
       "    <tr>\n",
       "      <th>0</th>\n",
       "      <td>s_211425</td>\n",
       "      <td>c_103</td>\n",
       "      <td>f</td>\n",
       "      <td>1986</td>\n",
       "      <td>0_1518</td>\n",
       "      <td>4.18</td>\n",
       "      <td>0.0</td>\n",
       "      <td>2022-05-20</td>\n",
       "    </tr>\n",
       "    <tr>\n",
       "      <th>1</th>\n",
       "      <td>s_158752</td>\n",
       "      <td>c_8534</td>\n",
       "      <td>m</td>\n",
       "      <td>1988</td>\n",
       "      <td>1_251</td>\n",
       "      <td>15.99</td>\n",
       "      <td>1.0</td>\n",
       "      <td>2022-02-02</td>\n",
       "    </tr>\n",
       "    <tr>\n",
       "      <th>2</th>\n",
       "      <td>s_225667</td>\n",
       "      <td>c_6714</td>\n",
       "      <td>f</td>\n",
       "      <td>1968</td>\n",
       "      <td>0_1277</td>\n",
       "      <td>7.99</td>\n",
       "      <td>0.0</td>\n",
       "      <td>2022-06-18</td>\n",
       "    </tr>\n",
       "    <tr>\n",
       "      <th>3</th>\n",
       "      <td>s_52962</td>\n",
       "      <td>c_6941</td>\n",
       "      <td>m</td>\n",
       "      <td>2000</td>\n",
       "      <td>2_209</td>\n",
       "      <td>69.99</td>\n",
       "      <td>2.0</td>\n",
       "      <td>2021-06-24</td>\n",
       "    </tr>\n",
       "    <tr>\n",
       "      <th>4</th>\n",
       "      <td>s_325227</td>\n",
       "      <td>c_4232</td>\n",
       "      <td>m</td>\n",
       "      <td>1980</td>\n",
       "      <td>0_1509</td>\n",
       "      <td>4.99</td>\n",
       "      <td>0.0</td>\n",
       "      <td>2023-01-11</td>\n",
       "    </tr>\n",
       "  </tbody>\n",
       "</table>\n",
       "</div>"
      ],
      "text/plain": [
       "  session_id client_id sex  birth id_prod  price  categ  date_jours\n",
       "0   s_211425     c_103   f   1986  0_1518   4.18    0.0  2022-05-20\n",
       "1   s_158752    c_8534   m   1988   1_251  15.99    1.0  2022-02-02\n",
       "2   s_225667    c_6714   f   1968  0_1277   7.99    0.0  2022-06-18\n",
       "3    s_52962    c_6941   m   2000   2_209  69.99    2.0  2021-06-24\n",
       "4   s_325227    c_4232   m   1980  0_1509   4.99    0.0  2023-01-11"
      ]
     },
     "execution_count": 21,
     "metadata": {},
     "output_type": "execute_result"
    }
   ],
   "source": [
    "df_final.head()"
   ]
  },
  {
   "cell_type": "code",
   "execution_count": null,
   "metadata": {},
   "outputs": [],
   "source": []
  },
  {
   "cell_type": "markdown",
   "metadata": {},
   "source": [
    "### Section 1.3: Le df final <a class=\"anchor\" id=\"section_1_3\"></a>"
   ]
  },
  {
   "cell_type": "code",
   "execution_count": 22,
   "metadata": {},
   "outputs": [
    {
     "data": {
      "text/html": [
       "<div>\n",
       "<style scoped>\n",
       "    .dataframe tbody tr th:only-of-type {\n",
       "        vertical-align: middle;\n",
       "    }\n",
       "\n",
       "    .dataframe tbody tr th {\n",
       "        vertical-align: top;\n",
       "    }\n",
       "\n",
       "    .dataframe thead th {\n",
       "        text-align: right;\n",
       "    }\n",
       "</style>\n",
       "<table border=\"1\" class=\"dataframe\">\n",
       "  <thead>\n",
       "    <tr style=\"text-align: right;\">\n",
       "      <th></th>\n",
       "      <th>session_id</th>\n",
       "      <th>client_id</th>\n",
       "      <th>sex</th>\n",
       "      <th>birth</th>\n",
       "      <th>id_prod</th>\n",
       "      <th>price</th>\n",
       "      <th>categ</th>\n",
       "      <th>date_jours</th>\n",
       "    </tr>\n",
       "  </thead>\n",
       "  <tbody>\n",
       "    <tr>\n",
       "      <th>0</th>\n",
       "      <td>s_211425</td>\n",
       "      <td>c_103</td>\n",
       "      <td>f</td>\n",
       "      <td>1986</td>\n",
       "      <td>0_1518</td>\n",
       "      <td>4.18</td>\n",
       "      <td>0.0</td>\n",
       "      <td>2022-05-20</td>\n",
       "    </tr>\n",
       "    <tr>\n",
       "      <th>1</th>\n",
       "      <td>s_158752</td>\n",
       "      <td>c_8534</td>\n",
       "      <td>m</td>\n",
       "      <td>1988</td>\n",
       "      <td>1_251</td>\n",
       "      <td>15.99</td>\n",
       "      <td>1.0</td>\n",
       "      <td>2022-02-02</td>\n",
       "    </tr>\n",
       "    <tr>\n",
       "      <th>2</th>\n",
       "      <td>s_225667</td>\n",
       "      <td>c_6714</td>\n",
       "      <td>f</td>\n",
       "      <td>1968</td>\n",
       "      <td>0_1277</td>\n",
       "      <td>7.99</td>\n",
       "      <td>0.0</td>\n",
       "      <td>2022-06-18</td>\n",
       "    </tr>\n",
       "    <tr>\n",
       "      <th>3</th>\n",
       "      <td>s_52962</td>\n",
       "      <td>c_6941</td>\n",
       "      <td>m</td>\n",
       "      <td>2000</td>\n",
       "      <td>2_209</td>\n",
       "      <td>69.99</td>\n",
       "      <td>2.0</td>\n",
       "      <td>2021-06-24</td>\n",
       "    </tr>\n",
       "    <tr>\n",
       "      <th>4</th>\n",
       "      <td>s_325227</td>\n",
       "      <td>c_4232</td>\n",
       "      <td>m</td>\n",
       "      <td>1980</td>\n",
       "      <td>0_1509</td>\n",
       "      <td>4.99</td>\n",
       "      <td>0.0</td>\n",
       "      <td>2023-01-11</td>\n",
       "    </tr>\n",
       "  </tbody>\n",
       "</table>\n",
       "</div>"
      ],
      "text/plain": [
       "  session_id client_id sex  birth id_prod  price  categ  date_jours\n",
       "0   s_211425     c_103   f   1986  0_1518   4.18    0.0  2022-05-20\n",
       "1   s_158752    c_8534   m   1988   1_251  15.99    1.0  2022-02-02\n",
       "2   s_225667    c_6714   f   1968  0_1277   7.99    0.0  2022-06-18\n",
       "3    s_52962    c_6941   m   2000   2_209  69.99    2.0  2021-06-24\n",
       "4   s_325227    c_4232   m   1980  0_1509   4.99    0.0  2023-01-11"
      ]
     },
     "execution_count": 22,
     "metadata": {},
     "output_type": "execute_result"
    }
   ],
   "source": [
    " df_final.head()"
   ]
  },
  {
   "cell_type": "code",
   "execution_count": 23,
   "metadata": {},
   "outputs": [
    {
     "name": "stdout",
     "output_type": "stream",
     "text": [
      "<class 'pandas.core.frame.DataFrame'>\n",
      "Int64Index: 679111 entries, 0 to 679531\n",
      "Data columns (total 8 columns):\n",
      " #   Column      Non-Null Count   Dtype  \n",
      "---  ------      --------------   -----  \n",
      " 0   session_id  679111 non-null  object \n",
      " 1   client_id   679111 non-null  object \n",
      " 2   sex         679111 non-null  object \n",
      " 3   birth       679111 non-null  int64  \n",
      " 4   id_prod     679111 non-null  object \n",
      " 5   price       679111 non-null  float64\n",
      " 6   categ       679111 non-null  float64\n",
      " 7   date_jours  679111 non-null  object \n",
      "dtypes: float64(2), int64(1), object(5)\n",
      "memory usage: 46.6+ MB\n"
     ]
    }
   ],
   "source": [
    "df_final.info()"
   ]
  },
  {
   "cell_type": "markdown",
   "metadata": {},
   "source": [
    "# Chapter 2: Les demandes d'Antoines <a class=\"anchor\" id=\"chapter2\"></a>\n",
    "### Section 2.1: Indicateurs et graphiques autour du CA (+ évolution dans le temps) <a class=\"anchor\" id=\"section_2_1\"></a>\n",
    "\n",
    "\n",
    "#### Calcul du CA total sur notre période: "
   ]
  },
  {
   "cell_type": "code",
   "execution_count": 24,
   "metadata": {},
   "outputs": [
    {
     "name": "stdout",
     "output_type": "stream",
     "text": [
      "Le CA total de notre entreprise sur la période étudiée est:  11853728.68 €.\n"
     ]
    }
   ],
   "source": [
    "# juste faire la somme de tous les produits vendus\n",
    "CA_total = df_final[\"price\"].sum()\n",
    "print(\"Le CA total de notre entreprise sur la période étudiée est: \", CA_total, \"€.\")"
   ]
  },
  {
   "cell_type": "markdown",
   "metadata": {},
   "source": [
    "#### Evolution du CA quotidien dans le temps: "
   ]
  },
  {
   "cell_type": "code",
   "execution_count": 25,
   "metadata": {},
   "outputs": [
    {
     "data": {
      "text/plain": [
       "(730, 1)"
      ]
     },
     "execution_count": 25,
     "metadata": {},
     "output_type": "execute_result"
    }
   ],
   "source": [
    "df_CA_evolv = pd.pivot_table(df_final, values = 'price', index=['date_jours'], aggfunc=np.sum)\n",
    "df_CA_evolv = df_CA_evolv.sort_values('date_jours')\n",
    "df_CA_evolv.rename(columns = {\"price\":\"CA_quotidien\"}, inplace = True)\n",
    "df_CA_evolv.shape"
   ]
  },
  {
   "cell_type": "code",
   "execution_count": 26,
   "metadata": {},
   "outputs": [
    {
     "data": {
      "text/html": [
       "<div>\n",
       "<style scoped>\n",
       "    .dataframe tbody tr th:only-of-type {\n",
       "        vertical-align: middle;\n",
       "    }\n",
       "\n",
       "    .dataframe tbody tr th {\n",
       "        vertical-align: top;\n",
       "    }\n",
       "\n",
       "    .dataframe thead th {\n",
       "        text-align: right;\n",
       "    }\n",
       "</style>\n",
       "<table border=\"1\" class=\"dataframe\">\n",
       "  <thead>\n",
       "    <tr style=\"text-align: right;\">\n",
       "      <th></th>\n",
       "      <th>date_jours</th>\n",
       "      <th>CA_quotidien</th>\n",
       "    </tr>\n",
       "  </thead>\n",
       "  <tbody>\n",
       "    <tr>\n",
       "      <th>0</th>\n",
       "      <td>2021-03-01</td>\n",
       "      <td>16565.22</td>\n",
       "    </tr>\n",
       "    <tr>\n",
       "      <th>1</th>\n",
       "      <td>2021-03-02</td>\n",
       "      <td>15486.45</td>\n",
       "    </tr>\n",
       "    <tr>\n",
       "      <th>2</th>\n",
       "      <td>2021-03-03</td>\n",
       "      <td>15198.69</td>\n",
       "    </tr>\n",
       "    <tr>\n",
       "      <th>3</th>\n",
       "      <td>2021-03-04</td>\n",
       "      <td>15196.07</td>\n",
       "    </tr>\n",
       "    <tr>\n",
       "      <th>4</th>\n",
       "      <td>2021-03-05</td>\n",
       "      <td>17471.37</td>\n",
       "    </tr>\n",
       "  </tbody>\n",
       "</table>\n",
       "</div>"
      ],
      "text/plain": [
       "   date_jours  CA_quotidien\n",
       "0  2021-03-01      16565.22\n",
       "1  2021-03-02      15486.45\n",
       "2  2021-03-03      15198.69\n",
       "3  2021-03-04      15196.07\n",
       "4  2021-03-05      17471.37"
      ]
     },
     "execution_count": 26,
     "metadata": {},
     "output_type": "execute_result"
    }
   ],
   "source": [
    "df_CA_evolv.reset_index(inplace = True)\n",
    "df_CA_evolv.head()"
   ]
  },
  {
   "cell_type": "code",
   "execution_count": 27,
   "metadata": {},
   "outputs": [
    {
     "data": {
      "text/plain": [
       "date_jours       object\n",
       "CA_quotidien    float64\n",
       "dtype: object"
      ]
     },
     "execution_count": 27,
     "metadata": {},
     "output_type": "execute_result"
    }
   ],
   "source": [
    "df_CA_evolv.dtypes"
   ]
  },
  {
   "cell_type": "code",
   "execution_count": 28,
   "metadata": {},
   "outputs": [],
   "source": [
    "# on veut le CA de chaque mois\n",
    "df_CA_evolv['date_jours'] = pd.to_datetime(df_CA_evolv['date_jours'])\n",
    "df_CA_evolv[\"année_mois\"] = df_CA_evolv['date_jours'].dt.strftime('%Y-%m')\n",
    "del df_CA_evolv['date_jours']\n",
    "df_CA_evolv = df_CA_evolv.groupby(\"année_mois\").sum(\"CA_quotidien\")\n",
    "df_CA_evolv.rename(columns = {\"CA_quotidien\":\"CA_mensuel\"}, inplace = True)"
   ]
  },
  {
   "cell_type": "code",
   "execution_count": 29,
   "metadata": {},
   "outputs": [],
   "source": [
    "df_CA_evolv['MM5'] = df_CA_evolv.rolling(window=5).mean()"
   ]
  },
  {
   "cell_type": "code",
   "execution_count": 30,
   "metadata": {},
   "outputs": [
    {
     "data": {
      "text/html": [
       "<div>\n",
       "<style scoped>\n",
       "    .dataframe tbody tr th:only-of-type {\n",
       "        vertical-align: middle;\n",
       "    }\n",
       "\n",
       "    .dataframe tbody tr th {\n",
       "        vertical-align: top;\n",
       "    }\n",
       "\n",
       "    .dataframe thead th {\n",
       "        text-align: right;\n",
       "    }\n",
       "</style>\n",
       "<table border=\"1\" class=\"dataframe\">\n",
       "  <thead>\n",
       "    <tr style=\"text-align: right;\">\n",
       "      <th></th>\n",
       "      <th>CA_mensuel</th>\n",
       "      <th>MM5</th>\n",
       "    </tr>\n",
       "    <tr>\n",
       "      <th>année_mois</th>\n",
       "      <th></th>\n",
       "      <th></th>\n",
       "    </tr>\n",
       "  </thead>\n",
       "  <tbody>\n",
       "    <tr>\n",
       "      <th>2021-03</th>\n",
       "      <td>482440.61</td>\n",
       "      <td>NaN</td>\n",
       "    </tr>\n",
       "    <tr>\n",
       "      <th>2021-04</th>\n",
       "      <td>476109.30</td>\n",
       "      <td>NaN</td>\n",
       "    </tr>\n",
       "    <tr>\n",
       "      <th>2021-05</th>\n",
       "      <td>492943.47</td>\n",
       "      <td>NaN</td>\n",
       "    </tr>\n",
       "    <tr>\n",
       "      <th>2021-06</th>\n",
       "      <td>484088.56</td>\n",
       "      <td>NaN</td>\n",
       "    </tr>\n",
       "    <tr>\n",
       "      <th>2021-07</th>\n",
       "      <td>482835.40</td>\n",
       "      <td>483683.468</td>\n",
       "    </tr>\n",
       "  </tbody>\n",
       "</table>\n",
       "</div>"
      ],
      "text/plain": [
       "            CA_mensuel         MM5\n",
       "année_mois                        \n",
       "2021-03      482440.61         NaN\n",
       "2021-04      476109.30         NaN\n",
       "2021-05      492943.47         NaN\n",
       "2021-06      484088.56         NaN\n",
       "2021-07      482835.40  483683.468"
      ]
     },
     "execution_count": 30,
     "metadata": {},
     "output_type": "execute_result"
    }
   ],
   "source": [
    "df_CA_evolv.head()"
   ]
  },
  {
   "cell_type": "code",
   "execution_count": 31,
   "metadata": {
    "scrolled": false
   },
   "outputs": [
    {
     "data": {
      "image/png": "[encoded data removed]",
      "text/plain": [
       "<Figure size 1800x720 with 1 Axes>"
      ]
     },
     "metadata": {
      "needs_background": "light"
     },
     "output_type": "display_data"
    }
   ],
   "source": [
    "x = df_CA_evolv.index\n",
    "y = df_CA_evolv['CA_mensuel']\n",
    "z = df_CA_evolv['MM5']\n",
    "\n",
    "fig1 = plt.figure(1)\n",
    "plt.plot(x, y)\n",
    "plt.plot(x, z)\n",
    "plt.title(\"Evolution de notre CA mensuel entre avril 2021 et avril 2023\", {'weight' : 'bold', 'size'   : 22} )\n",
    "          \n",
    "plt.xlabel(\"Temps\", {'weight' : 'bold', 'size'   : 22} )\n",
    "plt.ylabel(\"CA mensuel\", {'weight' : 'bold', 'size'   : 22})\n",
    "\n",
    "fig1.set_size_inches(25, 10)\n",
    "\n",
    "plt.show() "
   ]
  },
  {
   "cell_type": "code",
   "execution_count": null,
   "metadata": {},
   "outputs": [],
   "source": []
  },
  {
   "cell_type": "markdown",
   "metadata": {},
   "source": [
    "### Section 2.2: La répartition du CA <a class=\"anchor\" id=\"section_2_2\"></a>"
   ]
  },
  {
   "cell_type": "code",
   "execution_count": 32,
   "metadata": {},
   "outputs": [
    {
     "name": "stdout",
     "output_type": "stream",
     "text": [
      "       nb_ventes      CA_categ\n",
      "categ                         \n",
      "1.0       227169  4.653723e+06\n",
      "0.0       415459  4.419731e+06\n",
      "2.0        36483  2.780275e+06\n"
     ]
    }
   ],
   "source": [
    "df_top_categ = df_final.iloc[:,[4,5,6]]\n",
    "df_top_categ = df_top_categ.groupby(['categ']).agg({'id_prod':'count', 'price':'sum'})\n",
    "df_top_categ.rename(columns = {\"price\":\"CA_categ\", \"id_prod\":\"nb_ventes\"}, inplace = True)\n",
    "print(df_top_categ.sort_values(\"CA_categ\", ascending = False ))"
   ]
  },
  {
   "cell_type": "code",
   "execution_count": 33,
   "metadata": {},
   "outputs": [
    {
     "data": {
      "text/plain": [
       "Text(0.5, 1.0, 'Repartition du CA par categorie')"
      ]
     },
     "execution_count": 33,
     "metadata": {},
     "output_type": "execute_result"
    },
    {
     "data": {
      "image/png": "[encoded data removed]",
      "text/plain": [
       "<Figure size 432x432 with 1 Axes>"
      ]
     },
     "metadata": {},
     "output_type": "display_data"
    }
   ],
   "source": [
    "mycolors = [\"orange\", \"red\", \"green\"]\n",
    "plot = df_top_categ.plot.pie(y='CA_categ', figsize=(6, 6),colors = mycolors, autopct='%1.1f%%')\n",
    "plt.title(\"Repartition du CA par categorie\", {'weight' : 'bold', 'size'   : 14})"
   ]
  },
  {
   "cell_type": "code",
   "execution_count": 34,
   "metadata": {},
   "outputs": [
    {
     "data": {
      "text/plain": [
       "Text(0.5, 1.0, 'Repartition du nombre de ventes par categorie')"
      ]
     },
     "execution_count": 34,
     "metadata": {},
     "output_type": "execute_result"
    },
    {
     "data": {
      "image/png": "[encoded data removed]",
      "text/plain": [
       "<Figure size 432x432 with 1 Axes>"
      ]
     },
     "metadata": {},
     "output_type": "display_data"
    }
   ],
   "source": [
    "mycolors = [\"orange\", \"red\", \"green\"]\n",
    "plot = df_top_categ.plot.pie(y=\"nb_ventes\", figsize=(6, 6),colors = mycolors, autopct='%1.1f%%')\n",
    "plt.title(\"Repartition du nombre de ventes par categorie\", {'weight' : 'bold', 'size'   : 14})"
   ]
  },
  {
   "cell_type": "code",
   "execution_count": null,
   "metadata": {},
   "outputs": [],
   "source": []
  },
  {
   "cell_type": "markdown",
   "metadata": {},
   "source": [
    "### Section 2.3: zoom sur les références (tops/flops) <a class=\"anchor\" id=\"section_2_3\"></a>"
   ]
  },
  {
   "cell_type": "code",
   "execution_count": 35,
   "metadata": {},
   "outputs": [
    {
     "data": {
      "text/html": [
       "<div>\n",
       "<style scoped>\n",
       "    .dataframe tbody tr th:only-of-type {\n",
       "        vertical-align: middle;\n",
       "    }\n",
       "\n",
       "    .dataframe tbody tr th {\n",
       "        vertical-align: top;\n",
       "    }\n",
       "\n",
       "    .dataframe thead th {\n",
       "        text-align: right;\n",
       "    }\n",
       "</style>\n",
       "<table border=\"1\" class=\"dataframe\">\n",
       "  <thead>\n",
       "    <tr style=\"text-align: right;\">\n",
       "      <th></th>\n",
       "      <th>session_id</th>\n",
       "      <th>client_id</th>\n",
       "      <th>sex</th>\n",
       "      <th>birth</th>\n",
       "      <th>id_prod</th>\n",
       "      <th>price</th>\n",
       "      <th>categ</th>\n",
       "      <th>date_jours</th>\n",
       "    </tr>\n",
       "  </thead>\n",
       "  <tbody>\n",
       "    <tr>\n",
       "      <th>0</th>\n",
       "      <td>s_211425</td>\n",
       "      <td>c_103</td>\n",
       "      <td>f</td>\n",
       "      <td>1986</td>\n",
       "      <td>0_1518</td>\n",
       "      <td>4.18</td>\n",
       "      <td>0.0</td>\n",
       "      <td>2022-05-20</td>\n",
       "    </tr>\n",
       "    <tr>\n",
       "      <th>1</th>\n",
       "      <td>s_158752</td>\n",
       "      <td>c_8534</td>\n",
       "      <td>m</td>\n",
       "      <td>1988</td>\n",
       "      <td>1_251</td>\n",
       "      <td>15.99</td>\n",
       "      <td>1.0</td>\n",
       "      <td>2022-02-02</td>\n",
       "    </tr>\n",
       "    <tr>\n",
       "      <th>2</th>\n",
       "      <td>s_225667</td>\n",
       "      <td>c_6714</td>\n",
       "      <td>f</td>\n",
       "      <td>1968</td>\n",
       "      <td>0_1277</td>\n",
       "      <td>7.99</td>\n",
       "      <td>0.0</td>\n",
       "      <td>2022-06-18</td>\n",
       "    </tr>\n",
       "    <tr>\n",
       "      <th>3</th>\n",
       "      <td>s_52962</td>\n",
       "      <td>c_6941</td>\n",
       "      <td>m</td>\n",
       "      <td>2000</td>\n",
       "      <td>2_209</td>\n",
       "      <td>69.99</td>\n",
       "      <td>2.0</td>\n",
       "      <td>2021-06-24</td>\n",
       "    </tr>\n",
       "    <tr>\n",
       "      <th>4</th>\n",
       "      <td>s_325227</td>\n",
       "      <td>c_4232</td>\n",
       "      <td>m</td>\n",
       "      <td>1980</td>\n",
       "      <td>0_1509</td>\n",
       "      <td>4.99</td>\n",
       "      <td>0.0</td>\n",
       "      <td>2023-01-11</td>\n",
       "    </tr>\n",
       "  </tbody>\n",
       "</table>\n",
       "</div>"
      ],
      "text/plain": [
       "  session_id client_id sex  birth id_prod  price  categ  date_jours\n",
       "0   s_211425     c_103   f   1986  0_1518   4.18    0.0  2022-05-20\n",
       "1   s_158752    c_8534   m   1988   1_251  15.99    1.0  2022-02-02\n",
       "2   s_225667    c_6714   f   1968  0_1277   7.99    0.0  2022-06-18\n",
       "3    s_52962    c_6941   m   2000   2_209  69.99    2.0  2021-06-24\n",
       "4   s_325227    c_4232   m   1980  0_1509   4.99    0.0  2023-01-11"
      ]
     },
     "execution_count": 35,
     "metadata": {},
     "output_type": "execute_result"
    }
   ],
   "source": [
    "df_final.head()"
   ]
  },
  {
   "cell_type": "code",
   "execution_count": 36,
   "metadata": {},
   "outputs": [
    {
     "name": "stdout",
     "output_type": "stream",
     "text": [
      "Au total, nous avons: 3265 différents produits de notre catalogue qui ont été acheté au moins une fois.\n",
      " Ci-dessous le top/flop des produits toutes catégories confondues:\n"
     ]
    },
    {
     "data": {
      "text/html": [
       "<div>\n",
       "<style scoped>\n",
       "    .dataframe tbody tr th:only-of-type {\n",
       "        vertical-align: middle;\n",
       "    }\n",
       "\n",
       "    .dataframe tbody tr th {\n",
       "        vertical-align: top;\n",
       "    }\n",
       "\n",
       "    .dataframe thead th {\n",
       "        text-align: right;\n",
       "    }\n",
       "</style>\n",
       "<table border=\"1\" class=\"dataframe\">\n",
       "  <thead>\n",
       "    <tr style=\"text-align: right;\">\n",
       "      <th></th>\n",
       "      <th></th>\n",
       "      <th>CA_produit</th>\n",
       "      <th>nb_ventes</th>\n",
       "    </tr>\n",
       "    <tr>\n",
       "      <th>id_prod</th>\n",
       "      <th>categ</th>\n",
       "      <th></th>\n",
       "      <th></th>\n",
       "    </tr>\n",
       "  </thead>\n",
       "  <tbody>\n",
       "    <tr>\n",
       "      <th>2_159</th>\n",
       "      <th>2.0</th>\n",
       "      <td>94893.50</td>\n",
       "      <td>650</td>\n",
       "    </tr>\n",
       "    <tr>\n",
       "      <th>2_135</th>\n",
       "      <th>2.0</th>\n",
       "      <td>69334.95</td>\n",
       "      <td>1005</td>\n",
       "    </tr>\n",
       "    <tr>\n",
       "      <th>2_112</th>\n",
       "      <th>2.0</th>\n",
       "      <td>65407.76</td>\n",
       "      <td>968</td>\n",
       "    </tr>\n",
       "    <tr>\n",
       "      <th>2_102</th>\n",
       "      <th>2.0</th>\n",
       "      <td>60736.78</td>\n",
       "      <td>1027</td>\n",
       "    </tr>\n",
       "    <tr>\n",
       "      <th>2_209</th>\n",
       "      <th>2.0</th>\n",
       "      <td>56971.86</td>\n",
       "      <td>814</td>\n",
       "    </tr>\n",
       "    <tr>\n",
       "      <th>...</th>\n",
       "      <th>...</th>\n",
       "      <td>...</td>\n",
       "      <td>...</td>\n",
       "    </tr>\n",
       "    <tr>\n",
       "      <th>0_1601</th>\n",
       "      <th>0.0</th>\n",
       "      <td>1.99</td>\n",
       "      <td>1</td>\n",
       "    </tr>\n",
       "    <tr>\n",
       "      <th>0_807</th>\n",
       "      <th>0.0</th>\n",
       "      <td>1.99</td>\n",
       "      <td>1</td>\n",
       "    </tr>\n",
       "    <tr>\n",
       "      <th>0_1653</th>\n",
       "      <th>0.0</th>\n",
       "      <td>1.98</td>\n",
       "      <td>2</td>\n",
       "    </tr>\n",
       "    <tr>\n",
       "      <th>0_1284</th>\n",
       "      <th>0.0</th>\n",
       "      <td>1.38</td>\n",
       "      <td>1</td>\n",
       "    </tr>\n",
       "    <tr>\n",
       "      <th>0_1539</th>\n",
       "      <th>0.0</th>\n",
       "      <td>0.99</td>\n",
       "      <td>1</td>\n",
       "    </tr>\n",
       "  </tbody>\n",
       "</table>\n",
       "<p>3265 rows × 2 columns</p>\n",
       "</div>"
      ],
      "text/plain": [
       "               CA_produit  nb_ventes\n",
       "id_prod categ                       \n",
       "2_159   2.0      94893.50        650\n",
       "2_135   2.0      69334.95       1005\n",
       "2_112   2.0      65407.76        968\n",
       "2_102   2.0      60736.78       1027\n",
       "2_209   2.0      56971.86        814\n",
       "...                   ...        ...\n",
       "0_1601  0.0          1.99          1\n",
       "0_807   0.0          1.99          1\n",
       "0_1653  0.0          1.98          2\n",
       "0_1284  0.0          1.38          1\n",
       "0_1539  0.0          0.99          1\n",
       "\n",
       "[3265 rows x 2 columns]"
      ]
     },
     "execution_count": 36,
     "metadata": {},
     "output_type": "execute_result"
    }
   ],
   "source": [
    "df_top_flop = df_final.groupby(['id_prod', 'categ']).agg({'price':'sum', 'id_prod':'count'})\n",
    "df_top_flop.rename(columns = {\"price\":\"CA_produit\", \"id_prod\":\"nb_ventes\"}, inplace = True)\n",
    "print(\"Au total, nous avons:\", len(df_top_flop) , \"différents produits de notre catalogue qui ont été acheté au moins une fois.\\n Ci-dessous le top/flop des produits toutes catégories confondues:\" )\n",
    "df_top_flop.sort_values(\"CA_produit\", ascending = False)"
   ]
  },
  {
   "cell_type": "code",
   "execution_count": 37,
   "metadata": {},
   "outputs": [],
   "source": [
    "# maintenant les tops/flops par catégories "
   ]
  },
  {
   "cell_type": "code",
   "execution_count": 38,
   "metadata": {},
   "outputs": [],
   "source": [
    "df_top_flop.reset_index(inplace = True)"
   ]
  },
  {
   "cell_type": "code",
   "execution_count": 39,
   "metadata": {},
   "outputs": [
    {
     "name": "stdout",
     "output_type": "stream",
     "text": [
      "2292  produits appartiennent à la catégorie 0. \n",
      " Ci-dessous le top/flop de cette catégorie:\n",
      "      index id_prod  categ  CA_produit  nb_ventes\n",
      "0         0     0_0    0.0     4657.50       1242\n",
      "1         1     0_1    0.0     5352.13        487\n",
      "2         2    0_10    0.0      394.90         22\n",
      "3         3   0_100    0.0       61.80          3\n",
      "4         4  0_1000    0.0     2954.88        432\n",
      "...     ...     ...    ...         ...        ...\n",
      "2287   2287   0_995    0.0     4044.32        368\n",
      "2288   2288   0_996    0.0     4970.28        427\n",
      "2289   2289   0_997    0.0     4375.62        438\n",
      "2290   2290   0_998    0.0     4234.50        450\n",
      "2291   2291   0_999    0.0     4095.90        410\n",
      "\n",
      "[2292 rows x 5 columns]\n"
     ]
    }
   ],
   "source": [
    "# La catégorie 0\n",
    "df_ranking_cat0 = df_top_flop[df_top_flop['categ'] == 0.0].copy()\n",
    "print(len(df_ranking_cat0), \" produits appartiennent à la catégorie 0. \\n Ci-dessous le top/flop de cette catégorie:\" )\n",
    "df_ranking_cat0.sort_values(\"CA_produit\", ascending = False)\n",
    "df_ranking_cat0.reset_index(inplace = True)\n",
    "print(df_ranking_cat0)"
   ]
  },
  {
   "cell_type": "code",
   "execution_count": 40,
   "metadata": {},
   "outputs": [
    {
     "name": "stdout",
     "output_type": "stream",
     "text": [
      "737  produits appartiennent à la catégorie 1. \n",
      " Ci-dessous le top/flop de cette catégorie:\n"
     ]
    },
    {
     "data": {
      "text/html": [
       "<div>\n",
       "<style scoped>\n",
       "    .dataframe tbody tr th:only-of-type {\n",
       "        vertical-align: middle;\n",
       "    }\n",
       "\n",
       "    .dataframe tbody tr th {\n",
       "        vertical-align: top;\n",
       "    }\n",
       "\n",
       "    .dataframe thead th {\n",
       "        text-align: right;\n",
       "    }\n",
       "</style>\n",
       "<table border=\"1\" class=\"dataframe\">\n",
       "  <thead>\n",
       "    <tr style=\"text-align: right;\">\n",
       "      <th></th>\n",
       "      <th>id_prod</th>\n",
       "      <th>categ</th>\n",
       "      <th>CA_produit</th>\n",
       "      <th>nb_ventes</th>\n",
       "    </tr>\n",
       "  </thead>\n",
       "  <tbody>\n",
       "    <tr>\n",
       "      <th>2619</th>\n",
       "      <td>1_395</td>\n",
       "      <td>1.0</td>\n",
       "      <td>54356.25</td>\n",
       "      <td>1875</td>\n",
       "    </tr>\n",
       "    <tr>\n",
       "      <th>2591</th>\n",
       "      <td>1_369</td>\n",
       "      <td>1.0</td>\n",
       "      <td>54025.48</td>\n",
       "      <td>2252</td>\n",
       "    </tr>\n",
       "    <tr>\n",
       "      <th>2641</th>\n",
       "      <td>1_414</td>\n",
       "      <td>1.0</td>\n",
       "      <td>51949.40</td>\n",
       "      <td>2180</td>\n",
       "    </tr>\n",
       "    <tr>\n",
       "      <th>2607</th>\n",
       "      <td>1_383</td>\n",
       "      <td>1.0</td>\n",
       "      <td>51486.24</td>\n",
       "      <td>1776</td>\n",
       "    </tr>\n",
       "    <tr>\n",
       "      <th>2733</th>\n",
       "      <td>1_498</td>\n",
       "      <td>1.0</td>\n",
       "      <td>49731.36</td>\n",
       "      <td>2128</td>\n",
       "    </tr>\n",
       "    <tr>\n",
       "      <th>...</th>\n",
       "      <td>...</td>\n",
       "      <td>...</td>\n",
       "      <td>...</td>\n",
       "      <td>...</td>\n",
       "    </tr>\n",
       "    <tr>\n",
       "      <th>2630</th>\n",
       "      <td>1_404</td>\n",
       "      <td>1.0</td>\n",
       "      <td>29.55</td>\n",
       "      <td>3</td>\n",
       "    </tr>\n",
       "    <tr>\n",
       "      <th>2706</th>\n",
       "      <td>1_473</td>\n",
       "      <td>1.0</td>\n",
       "      <td>26.91</td>\n",
       "      <td>9</td>\n",
       "    </tr>\n",
       "    <tr>\n",
       "      <th>2703</th>\n",
       "      <td>1_470</td>\n",
       "      <td>1.0</td>\n",
       "      <td>21.64</td>\n",
       "      <td>4</td>\n",
       "    </tr>\n",
       "    <tr>\n",
       "      <th>2431</th>\n",
       "      <td>1_224</td>\n",
       "      <td>1.0</td>\n",
       "      <td>19.80</td>\n",
       "      <td>4</td>\n",
       "    </tr>\n",
       "    <tr>\n",
       "      <th>2648</th>\n",
       "      <td>1_420</td>\n",
       "      <td>1.0</td>\n",
       "      <td>14.24</td>\n",
       "      <td>2</td>\n",
       "    </tr>\n",
       "  </tbody>\n",
       "</table>\n",
       "<p>737 rows × 4 columns</p>\n",
       "</div>"
      ],
      "text/plain": [
       "     id_prod  categ  CA_produit  nb_ventes\n",
       "2619   1_395    1.0    54356.25       1875\n",
       "2591   1_369    1.0    54025.48       2252\n",
       "2641   1_414    1.0    51949.40       2180\n",
       "2607   1_383    1.0    51486.24       1776\n",
       "2733   1_498    1.0    49731.36       2128\n",
       "...      ...    ...         ...        ...\n",
       "2630   1_404    1.0       29.55          3\n",
       "2706   1_473    1.0       26.91          9\n",
       "2703   1_470    1.0       21.64          4\n",
       "2431   1_224    1.0       19.80          4\n",
       "2648   1_420    1.0       14.24          2\n",
       "\n",
       "[737 rows x 4 columns]"
      ]
     },
     "execution_count": 40,
     "metadata": {},
     "output_type": "execute_result"
    }
   ],
   "source": [
    "# la catégorie 1\n",
    "df_ranking_cat1 = df_top_flop[df_top_flop['categ'] == 1.0]\n",
    "print(len(df_ranking_cat1), \" produits appartiennent à la catégorie 1. \\n Ci-dessous le top/flop de cette catégorie:\" )\n",
    "df_ranking_cat1.sort_values(\"CA_produit\", ascending = False)"
   ]
  },
  {
   "cell_type": "code",
   "execution_count": 41,
   "metadata": {},
   "outputs": [
    {
     "name": "stdout",
     "output_type": "stream",
     "text": [
      "236  produits appartiennent à la catégorie 2. \n",
      " Ci-dessous le top/flop de cette catégorie:\n"
     ]
    },
    {
     "data": {
      "text/html": [
       "<div>\n",
       "<style scoped>\n",
       "    .dataframe tbody tr th:only-of-type {\n",
       "        vertical-align: middle;\n",
       "    }\n",
       "\n",
       "    .dataframe tbody tr th {\n",
       "        vertical-align: top;\n",
       "    }\n",
       "\n",
       "    .dataframe thead th {\n",
       "        text-align: right;\n",
       "    }\n",
       "</style>\n",
       "<table border=\"1\" class=\"dataframe\">\n",
       "  <thead>\n",
       "    <tr style=\"text-align: right;\">\n",
       "      <th></th>\n",
       "      <th>id_prod</th>\n",
       "      <th>categ</th>\n",
       "      <th>CA_produit</th>\n",
       "      <th>nb_ventes</th>\n",
       "    </tr>\n",
       "  </thead>\n",
       "  <tbody>\n",
       "    <tr>\n",
       "      <th>3096</th>\n",
       "      <td>2_159</td>\n",
       "      <td>2.0</td>\n",
       "      <td>94893.50</td>\n",
       "      <td>650</td>\n",
       "    </tr>\n",
       "    <tr>\n",
       "      <th>3070</th>\n",
       "      <td>2_135</td>\n",
       "      <td>2.0</td>\n",
       "      <td>69334.95</td>\n",
       "      <td>1005</td>\n",
       "    </tr>\n",
       "    <tr>\n",
       "      <th>3045</th>\n",
       "      <td>2_112</td>\n",
       "      <td>2.0</td>\n",
       "      <td>65407.76</td>\n",
       "      <td>968</td>\n",
       "    </tr>\n",
       "    <tr>\n",
       "      <th>3034</th>\n",
       "      <td>2_102</td>\n",
       "      <td>2.0</td>\n",
       "      <td>60736.78</td>\n",
       "      <td>1027</td>\n",
       "    </tr>\n",
       "    <tr>\n",
       "      <th>3152</th>\n",
       "      <td>2_209</td>\n",
       "      <td>2.0</td>\n",
       "      <td>56971.86</td>\n",
       "      <td>814</td>\n",
       "    </tr>\n",
       "    <tr>\n",
       "      <th>...</th>\n",
       "      <td>...</td>\n",
       "      <td>...</td>\n",
       "      <td>...</td>\n",
       "      <td>...</td>\n",
       "    </tr>\n",
       "    <tr>\n",
       "      <th>3039</th>\n",
       "      <td>2_107</td>\n",
       "      <td>2.0</td>\n",
       "      <td>203.94</td>\n",
       "      <td>6</td>\n",
       "    </tr>\n",
       "    <tr>\n",
       "      <th>3258</th>\n",
       "      <td>2_93</td>\n",
       "      <td>2.0</td>\n",
       "      <td>157.98</td>\n",
       "      <td>2</td>\n",
       "    </tr>\n",
       "    <tr>\n",
       "      <th>3263</th>\n",
       "      <td>2_98</td>\n",
       "      <td>2.0</td>\n",
       "      <td>149.74</td>\n",
       "      <td>1</td>\n",
       "    </tr>\n",
       "    <tr>\n",
       "      <th>3175</th>\n",
       "      <td>2_23</td>\n",
       "      <td>2.0</td>\n",
       "      <td>115.99</td>\n",
       "      <td>1</td>\n",
       "    </tr>\n",
       "    <tr>\n",
       "      <th>3247</th>\n",
       "      <td>2_81</td>\n",
       "      <td>2.0</td>\n",
       "      <td>86.99</td>\n",
       "      <td>1</td>\n",
       "    </tr>\n",
       "  </tbody>\n",
       "</table>\n",
       "<p>236 rows × 4 columns</p>\n",
       "</div>"
      ],
      "text/plain": [
       "     id_prod  categ  CA_produit  nb_ventes\n",
       "3096   2_159    2.0    94893.50        650\n",
       "3070   2_135    2.0    69334.95       1005\n",
       "3045   2_112    2.0    65407.76        968\n",
       "3034   2_102    2.0    60736.78       1027\n",
       "3152   2_209    2.0    56971.86        814\n",
       "...      ...    ...         ...        ...\n",
       "3039   2_107    2.0      203.94          6\n",
       "3258    2_93    2.0      157.98          2\n",
       "3263    2_98    2.0      149.74          1\n",
       "3175    2_23    2.0      115.99          1\n",
       "3247    2_81    2.0       86.99          1\n",
       "\n",
       "[236 rows x 4 columns]"
      ]
     },
     "execution_count": 41,
     "metadata": {},
     "output_type": "execute_result"
    }
   ],
   "source": [
    "# la catégorie 2\n",
    "df_ranking_cat2 = df_top_flop[df_top_flop['categ'] == 2.0]\n",
    "print(len(df_ranking_cat2), \" produits appartiennent à la catégorie 2. \\n Ci-dessous le top/flop de cette catégorie:\" )\n",
    "df_ranking_cat2.sort_values(\"CA_produit\", ascending = False)"
   ]
  },
  {
   "cell_type": "code",
   "execution_count": null,
   "metadata": {},
   "outputs": [],
   "source": []
  },
  {
   "cell_type": "markdown",
   "metadata": {},
   "source": [
    "### Section 2.4: quelques informations sur les profils de nos clients <a class=\"anchor\" id=\"section_2_4\"></a>"
   ]
  },
  {
   "cell_type": "code",
   "execution_count": 42,
   "metadata": {},
   "outputs": [
    {
     "data": {
      "text/html": [
       "<div>\n",
       "<style scoped>\n",
       "    .dataframe tbody tr th:only-of-type {\n",
       "        vertical-align: middle;\n",
       "    }\n",
       "\n",
       "    .dataframe tbody tr th {\n",
       "        vertical-align: top;\n",
       "    }\n",
       "\n",
       "    .dataframe thead th {\n",
       "        text-align: right;\n",
       "    }\n",
       "</style>\n",
       "<table border=\"1\" class=\"dataframe\">\n",
       "  <thead>\n",
       "    <tr style=\"text-align: right;\">\n",
       "      <th></th>\n",
       "      <th>session_id</th>\n",
       "      <th>client_id</th>\n",
       "      <th>sex</th>\n",
       "      <th>birth</th>\n",
       "      <th>id_prod</th>\n",
       "      <th>price</th>\n",
       "      <th>categ</th>\n",
       "      <th>date_jours</th>\n",
       "    </tr>\n",
       "  </thead>\n",
       "  <tbody>\n",
       "    <tr>\n",
       "      <th>0</th>\n",
       "      <td>s_211425</td>\n",
       "      <td>c_103</td>\n",
       "      <td>f</td>\n",
       "      <td>1986</td>\n",
       "      <td>0_1518</td>\n",
       "      <td>4.18</td>\n",
       "      <td>0.0</td>\n",
       "      <td>2022-05-20</td>\n",
       "    </tr>\n",
       "    <tr>\n",
       "      <th>1</th>\n",
       "      <td>s_158752</td>\n",
       "      <td>c_8534</td>\n",
       "      <td>m</td>\n",
       "      <td>1988</td>\n",
       "      <td>1_251</td>\n",
       "      <td>15.99</td>\n",
       "      <td>1.0</td>\n",
       "      <td>2022-02-02</td>\n",
       "    </tr>\n",
       "    <tr>\n",
       "      <th>2</th>\n",
       "      <td>s_225667</td>\n",
       "      <td>c_6714</td>\n",
       "      <td>f</td>\n",
       "      <td>1968</td>\n",
       "      <td>0_1277</td>\n",
       "      <td>7.99</td>\n",
       "      <td>0.0</td>\n",
       "      <td>2022-06-18</td>\n",
       "    </tr>\n",
       "    <tr>\n",
       "      <th>3</th>\n",
       "      <td>s_52962</td>\n",
       "      <td>c_6941</td>\n",
       "      <td>m</td>\n",
       "      <td>2000</td>\n",
       "      <td>2_209</td>\n",
       "      <td>69.99</td>\n",
       "      <td>2.0</td>\n",
       "      <td>2021-06-24</td>\n",
       "    </tr>\n",
       "    <tr>\n",
       "      <th>4</th>\n",
       "      <td>s_325227</td>\n",
       "      <td>c_4232</td>\n",
       "      <td>m</td>\n",
       "      <td>1980</td>\n",
       "      <td>0_1509</td>\n",
       "      <td>4.99</td>\n",
       "      <td>0.0</td>\n",
       "      <td>2023-01-11</td>\n",
       "    </tr>\n",
       "  </tbody>\n",
       "</table>\n",
       "</div>"
      ],
      "text/plain": [
       "  session_id client_id sex  birth id_prod  price  categ  date_jours\n",
       "0   s_211425     c_103   f   1986  0_1518   4.18    0.0  2022-05-20\n",
       "1   s_158752    c_8534   m   1988   1_251  15.99    1.0  2022-02-02\n",
       "2   s_225667    c_6714   f   1968  0_1277   7.99    0.0  2022-06-18\n",
       "3    s_52962    c_6941   m   2000   2_209  69.99    2.0  2021-06-24\n",
       "4   s_325227    c_4232   m   1980  0_1509   4.99    0.0  2023-01-11"
      ]
     },
     "execution_count": 42,
     "metadata": {},
     "output_type": "execute_result"
    }
   ],
   "source": [
    "df_final.head()"
   ]
  },
  {
   "cell_type": "code",
   "execution_count": 43,
   "metadata": {},
   "outputs": [
    {
     "data": {
      "text/html": [
       "<div>\n",
       "<style scoped>\n",
       "    .dataframe tbody tr th:only-of-type {\n",
       "        vertical-align: middle;\n",
       "    }\n",
       "\n",
       "    .dataframe tbody tr th {\n",
       "        vertical-align: top;\n",
       "    }\n",
       "\n",
       "    .dataframe thead th {\n",
       "        text-align: right;\n",
       "    }\n",
       "</style>\n",
       "<table border=\"1\" class=\"dataframe\">\n",
       "  <thead>\n",
       "    <tr style=\"text-align: right;\">\n",
       "      <th></th>\n",
       "      <th>client_id</th>\n",
       "      <th>sex</th>\n",
       "      <th>birth</th>\n",
       "      <th>panier_indiv</th>\n",
       "    </tr>\n",
       "  </thead>\n",
       "  <tbody>\n",
       "    <tr>\n",
       "      <th>0</th>\n",
       "      <td>c_1</td>\n",
       "      <td>m</td>\n",
       "      <td>1955</td>\n",
       "      <td>558.18</td>\n",
       "    </tr>\n",
       "    <tr>\n",
       "      <th>1</th>\n",
       "      <td>c_10</td>\n",
       "      <td>m</td>\n",
       "      <td>1956</td>\n",
       "      <td>1353.60</td>\n",
       "    </tr>\n",
       "    <tr>\n",
       "      <th>2</th>\n",
       "      <td>c_100</td>\n",
       "      <td>m</td>\n",
       "      <td>1992</td>\n",
       "      <td>254.85</td>\n",
       "    </tr>\n",
       "    <tr>\n",
       "      <th>3</th>\n",
       "      <td>c_1000</td>\n",
       "      <td>f</td>\n",
       "      <td>1966</td>\n",
       "      <td>2261.89</td>\n",
       "    </tr>\n",
       "    <tr>\n",
       "      <th>4</th>\n",
       "      <td>c_1001</td>\n",
       "      <td>m</td>\n",
       "      <td>1982</td>\n",
       "      <td>1812.86</td>\n",
       "    </tr>\n",
       "  </tbody>\n",
       "</table>\n",
       "</div>"
      ],
      "text/plain": [
       "  client_id sex  birth  panier_indiv\n",
       "0       c_1   m   1955        558.18\n",
       "1      c_10   m   1956       1353.60\n",
       "2     c_100   m   1992        254.85\n",
       "3    c_1000   f   1966       2261.89\n",
       "4    c_1001   m   1982       1812.86"
      ]
     },
     "execution_count": 43,
     "metadata": {},
     "output_type": "execute_result"
    }
   ],
   "source": [
    "df_info_clients = df_final.iloc[:,[1,2,3,5]].groupby([\"client_id\",\"sex\",\"birth\"]).sum('price')\n",
    "df_info_clients.reset_index(inplace = True)\n",
    "df_info_clients.rename(columns = {\"price\":\"panier_indiv\"}, inplace = True)\n",
    "df_info_clients.head()"
   ]
  },
  {
   "cell_type": "code",
   "execution_count": 44,
   "metadata": {},
   "outputs": [
    {
     "name": "stdout",
     "output_type": "stream",
     "text": [
      "Parmi nos clients,  52.08 % sont des clientes!\n"
     ]
    }
   ],
   "source": [
    "proportion_genre = len(df_info_clients[df_info_clients[\"sex\"] == 'f']) / len(df_info_clients)\n",
    "print(\"Parmi nos clients, \", round(proportion_genre*100,2) ,\"% sont des clientes!\")"
   ]
  },
  {
   "cell_type": "code",
   "execution_count": 45,
   "metadata": {},
   "outputs": [
    {
     "data": {
      "text/html": [
       "<div>\n",
       "<style scoped>\n",
       "    .dataframe tbody tr th:only-of-type {\n",
       "        vertical-align: middle;\n",
       "    }\n",
       "\n",
       "    .dataframe tbody tr th {\n",
       "        vertical-align: top;\n",
       "    }\n",
       "\n",
       "    .dataframe thead th {\n",
       "        text-align: right;\n",
       "    }\n",
       "</style>\n",
       "<table border=\"1\" class=\"dataframe\">\n",
       "  <thead>\n",
       "    <tr style=\"text-align: right;\">\n",
       "      <th></th>\n",
       "      <th>birth</th>\n",
       "      <th>panier_indiv</th>\n",
       "    </tr>\n",
       "  </thead>\n",
       "  <tbody>\n",
       "    <tr>\n",
       "      <th>count</th>\n",
       "      <td>8600.000000</td>\n",
       "      <td>8600.000000</td>\n",
       "    </tr>\n",
       "    <tr>\n",
       "      <th>mean</th>\n",
       "      <td>1978.260698</td>\n",
       "      <td>1378.340544</td>\n",
       "    </tr>\n",
       "    <tr>\n",
       "      <th>std</th>\n",
       "      <td>16.908755</td>\n",
       "      <td>5182.542488</td>\n",
       "    </tr>\n",
       "    <tr>\n",
       "      <th>min</th>\n",
       "      <td>1929.000000</td>\n",
       "      <td>6.310000</td>\n",
       "    </tr>\n",
       "    <tr>\n",
       "      <th>25%</th>\n",
       "      <td>1966.000000</td>\n",
       "      <td>547.630000</td>\n",
       "    </tr>\n",
       "    <tr>\n",
       "      <th>50%</th>\n",
       "      <td>1979.000000</td>\n",
       "      <td>1027.020000</td>\n",
       "    </tr>\n",
       "    <tr>\n",
       "      <th>75%</th>\n",
       "      <td>1992.000000</td>\n",
       "      <td>1779.500000</td>\n",
       "    </tr>\n",
       "    <tr>\n",
       "      <th>max</th>\n",
       "      <td>2004.000000</td>\n",
       "      <td>324033.350000</td>\n",
       "    </tr>\n",
       "  </tbody>\n",
       "</table>\n",
       "</div>"
      ],
      "text/plain": [
       "             birth   panier_indiv\n",
       "count  8600.000000    8600.000000\n",
       "mean   1978.260698    1378.340544\n",
       "std      16.908755    5182.542488\n",
       "min    1929.000000       6.310000\n",
       "25%    1966.000000     547.630000\n",
       "50%    1979.000000    1027.020000\n",
       "75%    1992.000000    1779.500000\n",
       "max    2004.000000  324033.350000"
      ]
     },
     "execution_count": 45,
     "metadata": {},
     "output_type": "execute_result"
    }
   ],
   "source": [
    "df_info_clients.describe()"
   ]
  },
  {
   "cell_type": "code",
   "execution_count": 46,
   "metadata": {},
   "outputs": [
    {
     "data": {
      "text/html": [
       "<div>\n",
       "<style scoped>\n",
       "    .dataframe tbody tr th:only-of-type {\n",
       "        vertical-align: middle;\n",
       "    }\n",
       "\n",
       "    .dataframe tbody tr th {\n",
       "        vertical-align: top;\n",
       "    }\n",
       "\n",
       "    .dataframe thead th {\n",
       "        text-align: right;\n",
       "    }\n",
       "</style>\n",
       "<table border=\"1\" class=\"dataframe\">\n",
       "  <thead>\n",
       "    <tr style=\"text-align: right;\">\n",
       "      <th></th>\n",
       "      <th>client_id</th>\n",
       "      <th>categ</th>\n",
       "      <th>price</th>\n",
       "    </tr>\n",
       "  </thead>\n",
       "  <tbody>\n",
       "    <tr>\n",
       "      <th>0</th>\n",
       "      <td>c_1</td>\n",
       "      <td>0.0</td>\n",
       "      <td>360.15</td>\n",
       "    </tr>\n",
       "    <tr>\n",
       "      <th>1</th>\n",
       "      <td>c_1</td>\n",
       "      <td>1.0</td>\n",
       "      <td>143.16</td>\n",
       "    </tr>\n",
       "    <tr>\n",
       "      <th>2</th>\n",
       "      <td>c_1</td>\n",
       "      <td>2.0</td>\n",
       "      <td>54.87</td>\n",
       "    </tr>\n",
       "    <tr>\n",
       "      <th>3</th>\n",
       "      <td>c_10</td>\n",
       "      <td>0.0</td>\n",
       "      <td>263.87</td>\n",
       "    </tr>\n",
       "    <tr>\n",
       "      <th>4</th>\n",
       "      <td>c_10</td>\n",
       "      <td>1.0</td>\n",
       "      <td>809.77</td>\n",
       "    </tr>\n",
       "  </tbody>\n",
       "</table>\n",
       "</div>"
      ],
      "text/plain": [
       "  client_id  categ   price\n",
       "0       c_1    0.0  360.15\n",
       "1       c_1    1.0  143.16\n",
       "2       c_1    2.0   54.87\n",
       "3      c_10    0.0  263.87\n",
       "4      c_10    1.0  809.77"
      ]
     },
     "execution_count": 46,
     "metadata": {},
     "output_type": "execute_result"
    }
   ],
   "source": [
    "df_info_clients = df_final.iloc[:,[1,5,6]].groupby([\"client_id\",\"categ\"]).sum('price')\n",
    "df_info_clients.reset_index(inplace = True)\n",
    "df_info_clients.head()"
   ]
  },
  {
   "cell_type": "code",
   "execution_count": 47,
   "metadata": {},
   "outputs": [
    {
     "data": {
      "image/png": "[encoded data removed]",
      "text/plain": [
       "<Figure size 1080x432 with 1 Axes>"
      ]
     },
     "metadata": {
      "needs_background": "light"
     },
     "output_type": "display_data"
    }
   ],
   "source": [
    "from matplotlib.patches import Polygon\n",
    "\n",
    "X = \"categ\"\n",
    "Y = \"price\"\n",
    "\n",
    "modalites = df_info_clients[X].unique()\n",
    "groupes = []\n",
    "for m in modalites:\n",
    "    groupes.append(df_info_clients[df_info_clients[X]==m][Y])\n",
    "\n",
    "    \n",
    "medianprops = {'color':\"black\"}\n",
    "meanprops = {'marker':'o', 'markeredgecolor':'black',\n",
    "            'markerfacecolor':'firebrick'}\n",
    "    \n",
    "fig = plt.figure(1, figsize=(15, 6))\n",
    "\n",
    "plt.xlabel('Montant')\n",
    "plt.ylabel('Catégorie')\n",
    "plt.title('Budgets dépensés par nos clients pour chaque catégorie')\n",
    "\n",
    "\n",
    "plt.boxplot(groupes, labels=modalites, showfliers=False, medianprops=medianprops, \n",
    "            vert=False, patch_artist=True, showmeans=True, meanprops=meanprops)\n",
    "\n",
    "plt.show()"
   ]
  },
  {
   "cell_type": "code",
   "execution_count": null,
   "metadata": {},
   "outputs": [],
   "source": []
  },
  {
   "cell_type": "code",
   "execution_count": null,
   "metadata": {},
   "outputs": [],
   "source": []
  },
  {
   "cell_type": "markdown",
   "metadata": {},
   "source": [
    "#### la répartition du chiffre d'affaires entre eux, via par exemple une courbe de Lorenz:\n"
   ]
  },
  {
   "cell_type": "code",
   "execution_count": 48,
   "metadata": {},
   "outputs": [
    {
     "data": {
      "text/html": [
       "<div>\n",
       "<style scoped>\n",
       "    .dataframe tbody tr th:only-of-type {\n",
       "        vertical-align: middle;\n",
       "    }\n",
       "\n",
       "    .dataframe tbody tr th {\n",
       "        vertical-align: top;\n",
       "    }\n",
       "\n",
       "    .dataframe thead th {\n",
       "        text-align: right;\n",
       "    }\n",
       "</style>\n",
       "<table border=\"1\" class=\"dataframe\">\n",
       "  <thead>\n",
       "    <tr style=\"text-align: right;\">\n",
       "      <th></th>\n",
       "      <th>session_id</th>\n",
       "      <th>client_id</th>\n",
       "      <th>sex</th>\n",
       "      <th>birth</th>\n",
       "      <th>id_prod</th>\n",
       "      <th>price</th>\n",
       "      <th>categ</th>\n",
       "      <th>date_jours</th>\n",
       "    </tr>\n",
       "  </thead>\n",
       "  <tbody>\n",
       "    <tr>\n",
       "      <th>0</th>\n",
       "      <td>s_211425</td>\n",
       "      <td>c_103</td>\n",
       "      <td>f</td>\n",
       "      <td>1986</td>\n",
       "      <td>0_1518</td>\n",
       "      <td>4.18</td>\n",
       "      <td>0.0</td>\n",
       "      <td>2022-05-20</td>\n",
       "    </tr>\n",
       "    <tr>\n",
       "      <th>1</th>\n",
       "      <td>s_158752</td>\n",
       "      <td>c_8534</td>\n",
       "      <td>m</td>\n",
       "      <td>1988</td>\n",
       "      <td>1_251</td>\n",
       "      <td>15.99</td>\n",
       "      <td>1.0</td>\n",
       "      <td>2022-02-02</td>\n",
       "    </tr>\n",
       "    <tr>\n",
       "      <th>2</th>\n",
       "      <td>s_225667</td>\n",
       "      <td>c_6714</td>\n",
       "      <td>f</td>\n",
       "      <td>1968</td>\n",
       "      <td>0_1277</td>\n",
       "      <td>7.99</td>\n",
       "      <td>0.0</td>\n",
       "      <td>2022-06-18</td>\n",
       "    </tr>\n",
       "    <tr>\n",
       "      <th>3</th>\n",
       "      <td>s_52962</td>\n",
       "      <td>c_6941</td>\n",
       "      <td>m</td>\n",
       "      <td>2000</td>\n",
       "      <td>2_209</td>\n",
       "      <td>69.99</td>\n",
       "      <td>2.0</td>\n",
       "      <td>2021-06-24</td>\n",
       "    </tr>\n",
       "    <tr>\n",
       "      <th>4</th>\n",
       "      <td>s_325227</td>\n",
       "      <td>c_4232</td>\n",
       "      <td>m</td>\n",
       "      <td>1980</td>\n",
       "      <td>0_1509</td>\n",
       "      <td>4.99</td>\n",
       "      <td>0.0</td>\n",
       "      <td>2023-01-11</td>\n",
       "    </tr>\n",
       "  </tbody>\n",
       "</table>\n",
       "</div>"
      ],
      "text/plain": [
       "  session_id client_id sex  birth id_prod  price  categ  date_jours\n",
       "0   s_211425     c_103   f   1986  0_1518   4.18    0.0  2022-05-20\n",
       "1   s_158752    c_8534   m   1988   1_251  15.99    1.0  2022-02-02\n",
       "2   s_225667    c_6714   f   1968  0_1277   7.99    0.0  2022-06-18\n",
       "3    s_52962    c_6941   m   2000   2_209  69.99    2.0  2021-06-24\n",
       "4   s_325227    c_4232   m   1980  0_1509   4.99    0.0  2023-01-11"
      ]
     },
     "execution_count": 48,
     "metadata": {},
     "output_type": "execute_result"
    }
   ],
   "source": [
    "df_final.head()"
   ]
  },
  {
   "cell_type": "code",
   "execution_count": 49,
   "metadata": {},
   "outputs": [
    {
     "data": {
      "text/html": [
       "<div>\n",
       "<style scoped>\n",
       "    .dataframe tbody tr th:only-of-type {\n",
       "        vertical-align: middle;\n",
       "    }\n",
       "\n",
       "    .dataframe tbody tr th {\n",
       "        vertical-align: top;\n",
       "    }\n",
       "\n",
       "    .dataframe thead th {\n",
       "        text-align: right;\n",
       "    }\n",
       "</style>\n",
       "<table border=\"1\" class=\"dataframe\">\n",
       "  <thead>\n",
       "    <tr style=\"text-align: right;\">\n",
       "      <th></th>\n",
       "      <th>CA_client</th>\n",
       "    </tr>\n",
       "    <tr>\n",
       "      <th>client_id</th>\n",
       "      <th></th>\n",
       "    </tr>\n",
       "  </thead>\n",
       "  <tbody>\n",
       "    <tr>\n",
       "      <th>c_8351</th>\n",
       "      <td>6.31</td>\n",
       "    </tr>\n",
       "    <tr>\n",
       "      <th>c_8140</th>\n",
       "      <td>8.30</td>\n",
       "    </tr>\n",
       "    <tr>\n",
       "      <th>c_8114</th>\n",
       "      <td>9.98</td>\n",
       "    </tr>\n",
       "    <tr>\n",
       "      <th>c_240</th>\n",
       "      <td>11.06</td>\n",
       "    </tr>\n",
       "    <tr>\n",
       "      <th>c_4648</th>\n",
       "      <td>11.20</td>\n",
       "    </tr>\n",
       "  </tbody>\n",
       "</table>\n",
       "</div>"
      ],
      "text/plain": [
       "           CA_client\n",
       "client_id           \n",
       "c_8351          6.31\n",
       "c_8140          8.30\n",
       "c_8114          9.98\n",
       "c_240          11.06\n",
       "c_4648         11.20"
      ]
     },
     "execution_count": 49,
     "metadata": {},
     "output_type": "execute_result"
    }
   ],
   "source": [
    "df_courbe_lorenz = df_final.iloc[:,[1,5]].groupby([\"client_id\"]).sum('price').sort_values('price')\n",
    "df_courbe_lorenz.rename(columns = {\"price\":\"CA_client\"}, inplace = True)\n",
    "df_courbe_lorenz.head()"
   ]
  },
  {
   "cell_type": "code",
   "execution_count": 50,
   "metadata": {},
   "outputs": [
    {
     "data": {
      "image/png": "[encoded data removed]",
      "text/plain": [
       "<Figure size 432x288 with 1 Axes>"
      ]
     },
     "metadata": {
      "needs_background": "light"
     },
     "output_type": "display_data"
    }
   ],
   "source": [
    "# code de la courbe de Lorenz\n",
    "\n",
    "depenses = df_courbe_lorenz[df_courbe_lorenz['CA_client']>0]\n",
    "dep = + depenses['CA_client'].values\n",
    "\n",
    "n = len(dep)\n",
    "lorenz = np.cumsum(np.sort(dep)) / dep.sum()\n",
    "lorenz = np.append([0],lorenz)\n",
    "\n",
    "\n",
    "xaxis = np.linspace(0-1/n,1+1/n,n+1)\n",
    "\n",
    "plt.plot([0.0, 1.0], [0.0, 1.0], 'o-', lw=2)\n",
    "\n",
    "plt.plot(xaxis, lorenz, drawstyle = 'steps-post', color = 'green')\n",
    "plt.xlabel(\"Rang du client\", labelpad = 10)\n",
    "plt.ylabel(\"Montant dépensé par le client\", labelpad = 15)\n",
    "\n",
    "\n",
    "plt.grid(True)\n",
    "plt.grid( which = 'major', axis='x', color='m', linewidth=0.2 )\n",
    "plt.grid(which='major', axis='y', color='y', linestyle='dashed')\n",
    "\n",
    "plt.title(\"Courbe de Lorenz de la clientèle Lapage\",{'weight' : 'bold', 'size'   : 12}, pad = 15)\n",
    "\n",
    "plt.rcParams[\"figure.figsize\"] = (5,7)\n",
    "\n",
    "plt.xlim(0,1)\n",
    "plt.ylim(0,1)\n",
    "\n",
    "plt.show()\n",
    "\n",
    "\n"
   ]
  },
  {
   "cell_type": "code",
   "execution_count": 51,
   "metadata": {},
   "outputs": [
    {
     "name": "stdout",
     "output_type": "stream",
     "text": [
      "Dans notre étude, l'indice de Gini est de: 0.4464\n"
     ]
    }
   ],
   "source": [
    "# indice de gini\n",
    "AUC =( lorenz.sum() - lorenz[-1]/2 - lorenz[0]/2) / n \n",
    "S = 0.5 - AUC\n",
    "gini = 2*S\n",
    "print(\"Dans notre étude, l'indice de Gini est de:\", round(gini,4))"
   ]
  },
  {
   "cell_type": "code",
   "execution_count": 52,
   "metadata": {},
   "outputs": [
    {
     "name": "stdout",
     "output_type": "stream",
     "text": [
      "79.0 % de nos clients représentent 50% de notre CA. De ce fait, les autres 21.0 % de nos clients représentent 50% de notre CA\n"
     ]
    }
   ],
   "source": [
    "depense_mediale = np.interp(0.5, lorenz, np.linspace(0,1,n+1))\n",
    "print( round(depense_mediale,2)*100, \"% de nos clients représentent 50% de notre CA.\" \" De ce fait, les autres\", round(1 - depense_mediale,2)*100, \"% de nos clients représentent 50% de notre CA\")     "
   ]
  },
  {
   "cell_type": "code",
   "execution_count": 53,
   "metadata": {},
   "outputs": [
    {
     "name": "stdout",
     "output_type": "stream",
     "text": [
      "96.0 % de nos clients représentent 80% de notre CA. De ce fait, les autres 4.0 % de nos clients représentent 20% de notre CA\n"
     ]
    }
   ],
   "source": [
    "depense_ochenta = np.interp(0.8, lorenz, np.linspace(0,1,n+1))\n",
    "print( round(depense_ochenta,2)*100, \"% de nos clients représentent 80% de notre CA.\" \" De ce fait, les autres\", round(1 - depense_ochenta,2)*100, \"% de nos clients représentent 20% de notre CA\")     "
   ]
  },
  {
   "cell_type": "code",
   "execution_count": null,
   "metadata": {},
   "outputs": [],
   "source": []
  },
  {
   "cell_type": "markdown",
   "metadata": {},
   "source": [
    "# Chapter 3: Les demandes de Julie <a class=\"anchor\" id=\"chapter3\"></a>\n",
    "### Section 3.1: le lien entre le genre d’un client et les catégories des livres achetés <a class=\"anchor\" id=\"section_3_1\"></a>"
   ]
  },
  {
   "cell_type": "code",
   "execution_count": 54,
   "metadata": {},
   "outputs": [
    {
     "data": {
      "text/html": [
       "<div>\n",
       "<style scoped>\n",
       "    .dataframe tbody tr th:only-of-type {\n",
       "        vertical-align: middle;\n",
       "    }\n",
       "\n",
       "    .dataframe tbody tr th {\n",
       "        vertical-align: top;\n",
       "    }\n",
       "\n",
       "    .dataframe thead th {\n",
       "        text-align: right;\n",
       "    }\n",
       "</style>\n",
       "<table border=\"1\" class=\"dataframe\">\n",
       "  <thead>\n",
       "    <tr style=\"text-align: right;\">\n",
       "      <th></th>\n",
       "      <th>session_id</th>\n",
       "      <th>client_id</th>\n",
       "      <th>sex</th>\n",
       "      <th>birth</th>\n",
       "      <th>id_prod</th>\n",
       "      <th>price</th>\n",
       "      <th>categ</th>\n",
       "      <th>date_jours</th>\n",
       "    </tr>\n",
       "  </thead>\n",
       "  <tbody>\n",
       "    <tr>\n",
       "      <th>0</th>\n",
       "      <td>s_211425</td>\n",
       "      <td>c_103</td>\n",
       "      <td>f</td>\n",
       "      <td>1986</td>\n",
       "      <td>0_1518</td>\n",
       "      <td>4.18</td>\n",
       "      <td>0.0</td>\n",
       "      <td>2022-05-20</td>\n",
       "    </tr>\n",
       "    <tr>\n",
       "      <th>1</th>\n",
       "      <td>s_158752</td>\n",
       "      <td>c_8534</td>\n",
       "      <td>m</td>\n",
       "      <td>1988</td>\n",
       "      <td>1_251</td>\n",
       "      <td>15.99</td>\n",
       "      <td>1.0</td>\n",
       "      <td>2022-02-02</td>\n",
       "    </tr>\n",
       "    <tr>\n",
       "      <th>2</th>\n",
       "      <td>s_225667</td>\n",
       "      <td>c_6714</td>\n",
       "      <td>f</td>\n",
       "      <td>1968</td>\n",
       "      <td>0_1277</td>\n",
       "      <td>7.99</td>\n",
       "      <td>0.0</td>\n",
       "      <td>2022-06-18</td>\n",
       "    </tr>\n",
       "    <tr>\n",
       "      <th>3</th>\n",
       "      <td>s_52962</td>\n",
       "      <td>c_6941</td>\n",
       "      <td>m</td>\n",
       "      <td>2000</td>\n",
       "      <td>2_209</td>\n",
       "      <td>69.99</td>\n",
       "      <td>2.0</td>\n",
       "      <td>2021-06-24</td>\n",
       "    </tr>\n",
       "    <tr>\n",
       "      <th>4</th>\n",
       "      <td>s_325227</td>\n",
       "      <td>c_4232</td>\n",
       "      <td>m</td>\n",
       "      <td>1980</td>\n",
       "      <td>0_1509</td>\n",
       "      <td>4.99</td>\n",
       "      <td>0.0</td>\n",
       "      <td>2023-01-11</td>\n",
       "    </tr>\n",
       "  </tbody>\n",
       "</table>\n",
       "</div>"
      ],
      "text/plain": [
       "  session_id client_id sex  birth id_prod  price  categ  date_jours\n",
       "0   s_211425     c_103   f   1986  0_1518   4.18    0.0  2022-05-20\n",
       "1   s_158752    c_8534   m   1988   1_251  15.99    1.0  2022-02-02\n",
       "2   s_225667    c_6714   f   1968  0_1277   7.99    0.0  2022-06-18\n",
       "3    s_52962    c_6941   m   2000   2_209  69.99    2.0  2021-06-24\n",
       "4   s_325227    c_4232   m   1980  0_1509   4.99    0.0  2023-01-11"
      ]
     },
     "execution_count": 54,
     "metadata": {},
     "output_type": "execute_result"
    }
   ],
   "source": [
    "df_final.head()"
   ]
  },
  {
   "cell_type": "code",
   "execution_count": 55,
   "metadata": {},
   "outputs": [
    {
     "data": {
      "text/html": [
       "<div>\n",
       "<style scoped>\n",
       "    .dataframe tbody tr th:only-of-type {\n",
       "        vertical-align: middle;\n",
       "    }\n",
       "\n",
       "    .dataframe tbody tr th {\n",
       "        vertical-align: top;\n",
       "    }\n",
       "\n",
       "    .dataframe thead th {\n",
       "        text-align: right;\n",
       "    }\n",
       "</style>\n",
       "<table border=\"1\" class=\"dataframe\">\n",
       "  <thead>\n",
       "    <tr style=\"text-align: right;\">\n",
       "      <th></th>\n",
       "      <th></th>\n",
       "      <th>nb_achats_total</th>\n",
       "    </tr>\n",
       "    <tr>\n",
       "      <th>sex</th>\n",
       "      <th>categ</th>\n",
       "      <th></th>\n",
       "    </tr>\n",
       "  </thead>\n",
       "  <tbody>\n",
       "    <tr>\n",
       "      <th rowspan=\"3\" valign=\"top\">f</th>\n",
       "      <th>0.0</th>\n",
       "      <td>206103</td>\n",
       "    </tr>\n",
       "    <tr>\n",
       "      <th>1.0</th>\n",
       "      <td>114899</td>\n",
       "    </tr>\n",
       "    <tr>\n",
       "      <th>2.0</th>\n",
       "      <td>17283</td>\n",
       "    </tr>\n",
       "    <tr>\n",
       "      <th rowspan=\"2\" valign=\"top\">m</th>\n",
       "      <th>0.0</th>\n",
       "      <td>209356</td>\n",
       "    </tr>\n",
       "    <tr>\n",
       "      <th>1.0</th>\n",
       "      <td>112270</td>\n",
       "    </tr>\n",
       "  </tbody>\n",
       "</table>\n",
       "</div>"
      ],
      "text/plain": [
       "           nb_achats_total\n",
       "sex categ                 \n",
       "f   0.0             206103\n",
       "    1.0             114899\n",
       "    2.0              17283\n",
       "m   0.0             209356\n",
       "    1.0             112270"
      ]
     },
     "execution_count": 55,
     "metadata": {},
     "output_type": "execute_result"
    }
   ],
   "source": [
    "# cette répartition représente des nombres, pas encore des moyennes (donc comparaison hommes / femmes non possible)\n",
    "df_genre_categ = df_final.iloc[:,[1,2,6]].copy()\n",
    "df_genre_categ = df_genre_categ.groupby([\"sex\",\"categ\"]).agg({\"client_id\":'count'})\n",
    "df_genre_categ.rename(columns={'client_id':\"nb_achats_total\"}, inplace = True)\n",
    "df_genre_categ.head()"
   ]
  },
  {
   "cell_type": "code",
   "execution_count": 56,
   "metadata": {},
   "outputs": [
    {
     "data": {
      "text/html": [
       "<div>\n",
       "<style scoped>\n",
       "    .dataframe tbody tr th:only-of-type {\n",
       "        vertical-align: middle;\n",
       "    }\n",
       "\n",
       "    .dataframe tbody tr th {\n",
       "        vertical-align: top;\n",
       "    }\n",
       "\n",
       "    .dataframe thead th {\n",
       "        text-align: right;\n",
       "    }\n",
       "</style>\n",
       "<table border=\"1\" class=\"dataframe\">\n",
       "  <thead>\n",
       "    <tr style=\"text-align: right;\">\n",
       "      <th></th>\n",
       "      <th>nb_achat_moyenne_f</th>\n",
       "    </tr>\n",
       "    <tr>\n",
       "      <th>categ</th>\n",
       "      <th></th>\n",
       "    </tr>\n",
       "  </thead>\n",
       "  <tbody>\n",
       "    <tr>\n",
       "      <th>0.0</th>\n",
       "      <td>46.015405</td>\n",
       "    </tr>\n",
       "    <tr>\n",
       "      <th>1.0</th>\n",
       "      <td>25.652824</td>\n",
       "    </tr>\n",
       "    <tr>\n",
       "      <th>2.0</th>\n",
       "      <td>3.858674</td>\n",
       "    </tr>\n",
       "  </tbody>\n",
       "</table>\n",
       "</div>"
      ],
      "text/plain": [
       "       nb_achat_moyenne_f\n",
       "categ                    \n",
       "0.0             46.015405\n",
       "1.0             25.652824\n",
       "2.0              3.858674"
      ]
     },
     "execution_count": 56,
     "metadata": {},
     "output_type": "execute_result"
    }
   ],
   "source": [
    "# les nb achats moyens femme\n",
    "df_f = df_final.iloc[:,[1,2,6]].copy()\n",
    "df_f = df_f[df_f['sex'].eq('f')]\n",
    "nb_femmes = len(df_f['client_id'].drop_duplicates())\n",
    "df_f = df_f.groupby(\"categ\").count()\n",
    "df_f['nb_achat_moyenne_f'] = df_f['client_id'] / nb_femmes\n",
    "del df_f[\"client_id\"] \n",
    "del df_f[\"sex\"]\n",
    "df_f.head()"
   ]
  },
  {
   "cell_type": "code",
   "execution_count": 57,
   "metadata": {},
   "outputs": [
    {
     "data": {
      "text/html": [
       "<div>\n",
       "<style scoped>\n",
       "    .dataframe tbody tr th:only-of-type {\n",
       "        vertical-align: middle;\n",
       "    }\n",
       "\n",
       "    .dataframe tbody tr th {\n",
       "        vertical-align: top;\n",
       "    }\n",
       "\n",
       "    .dataframe thead th {\n",
       "        text-align: right;\n",
       "    }\n",
       "</style>\n",
       "<table border=\"1\" class=\"dataframe\">\n",
       "  <thead>\n",
       "    <tr style=\"text-align: right;\">\n",
       "      <th></th>\n",
       "      <th>nb_achat_moyenne_m</th>\n",
       "    </tr>\n",
       "    <tr>\n",
       "      <th>categ</th>\n",
       "      <th></th>\n",
       "    </tr>\n",
       "  </thead>\n",
       "  <tbody>\n",
       "    <tr>\n",
       "      <th>0.0</th>\n",
       "      <td>50.802232</td>\n",
       "    </tr>\n",
       "    <tr>\n",
       "      <th>1.0</th>\n",
       "      <td>27.243388</td>\n",
       "    </tr>\n",
       "    <tr>\n",
       "      <th>2.0</th>\n",
       "      <td>4.659063</td>\n",
       "    </tr>\n",
       "  </tbody>\n",
       "</table>\n",
       "</div>"
      ],
      "text/plain": [
       "       nb_achat_moyenne_m\n",
       "categ                    \n",
       "0.0             50.802232\n",
       "1.0             27.243388\n",
       "2.0              4.659063"
      ]
     },
     "execution_count": 57,
     "metadata": {},
     "output_type": "execute_result"
    }
   ],
   "source": [
    "# les nb achats moyens homme\n",
    "df_m = df_final.iloc[:,[1,2,6]].copy()\n",
    "df_m = df_m[df_m['sex'].eq('m')]\n",
    "nb_hommes = len(df_m['client_id'].drop_duplicates())\n",
    "df_m = df_m.groupby(\"categ\").count()\n",
    "df_m['nb_achat_moyenne_m'] = df_m['client_id'] / nb_hommes\n",
    "del df_m[\"client_id\"] \n",
    "del df_m[\"sex\"]\n",
    "df_m.head()"
   ]
  },
  {
   "cell_type": "code",
   "execution_count": 58,
   "metadata": {},
   "outputs": [
    {
     "name": "stdout",
     "output_type": "stream",
     "text": [
      "Parmi nos clients, nous avons :  4479  femmes et  4121 hommes.\n"
     ]
    }
   ],
   "source": [
    "print(\"Parmi nos clients, nous avons : \" ,nb_femmes,\" femmes et \",nb_hommes, \"hommes.\")"
   ]
  },
  {
   "cell_type": "code",
   "execution_count": 59,
   "metadata": {},
   "outputs": [
    {
     "data": {
      "text/html": [
       "<div>\n",
       "<style scoped>\n",
       "    .dataframe tbody tr th:only-of-type {\n",
       "        vertical-align: middle;\n",
       "    }\n",
       "\n",
       "    .dataframe tbody tr th {\n",
       "        vertical-align: top;\n",
       "    }\n",
       "\n",
       "    .dataframe thead th {\n",
       "        text-align: right;\n",
       "    }\n",
       "</style>\n",
       "<table border=\"1\" class=\"dataframe\">\n",
       "  <thead>\n",
       "    <tr style=\"text-align: right;\">\n",
       "      <th></th>\n",
       "      <th>nb_achat_moyenne_f</th>\n",
       "      <th>nb_achat_moyenne_m</th>\n",
       "    </tr>\n",
       "    <tr>\n",
       "      <th>categ</th>\n",
       "      <th></th>\n",
       "      <th></th>\n",
       "    </tr>\n",
       "  </thead>\n",
       "  <tbody>\n",
       "    <tr>\n",
       "      <th>0.0</th>\n",
       "      <td>46.015405</td>\n",
       "      <td>50.802232</td>\n",
       "    </tr>\n",
       "    <tr>\n",
       "      <th>1.0</th>\n",
       "      <td>25.652824</td>\n",
       "      <td>27.243388</td>\n",
       "    </tr>\n",
       "    <tr>\n",
       "      <th>2.0</th>\n",
       "      <td>3.858674</td>\n",
       "      <td>4.659063</td>\n",
       "    </tr>\n",
       "  </tbody>\n",
       "</table>\n",
       "</div>"
      ],
      "text/plain": [
       "       nb_achat_moyenne_f  nb_achat_moyenne_m\n",
       "categ                                        \n",
       "0.0             46.015405           50.802232\n",
       "1.0             25.652824           27.243388\n",
       "2.0              3.858674            4.659063"
      ]
     },
     "execution_count": 59,
     "metadata": {},
     "output_type": "execute_result"
    }
   ],
   "source": [
    "df_genre_categ = pd.concat([df_f,df_m], axis=1)\n",
    "df_genre_categ.head()"
   ]
  },
  {
   "cell_type": "code",
   "execution_count": 60,
   "metadata": {},
   "outputs": [
    {
     "data": {
      "text/plain": [
       "Text(0, 0.5, \"Nombre d'achats moyens\")"
      ]
     },
     "execution_count": 60,
     "metadata": {},
     "output_type": "execute_result"
    },
    {
     "data": {
      "image/png": "[encoded data removed]",
      "text/plain": [
       "<Figure size 576x360 with 1 Axes>"
      ]
     },
     "metadata": {
      "needs_background": "light"
     },
     "output_type": "display_data"
    }
   ],
   "source": [
    "df_genre_categ.plot.bar(figsize =(8,5), color =('green', 'purple'))\n",
    "plt.xlabel('Categories', size = 12)\n",
    "plt.ylabel(\"Nombre d'achats moyens\", size = 12)"
   ]
  },
  {
   "cell_type": "code",
   "execution_count": 61,
   "metadata": {},
   "outputs": [],
   "source": [
    "df_genre_categ.reset_index(inplace = True)"
   ]
  },
  {
   "cell_type": "code",
   "execution_count": 62,
   "metadata": {},
   "outputs": [],
   "source": [
    "# Ces répartitions proches sont-elles le fruit du hasard? Non allons analyser cela avec un test du khi-2"
   ]
  },
  {
   "cell_type": "code",
   "execution_count": 63,
   "metadata": {},
   "outputs": [
    {
     "data": {
      "text/html": [
       "<div>\n",
       "<style scoped>\n",
       "    .dataframe tbody tr th:only-of-type {\n",
       "        vertical-align: middle;\n",
       "    }\n",
       "\n",
       "    .dataframe tbody tr th {\n",
       "        vertical-align: top;\n",
       "    }\n",
       "\n",
       "    .dataframe thead th {\n",
       "        text-align: right;\n",
       "    }\n",
       "</style>\n",
       "<table border=\"1\" class=\"dataframe\">\n",
       "  <thead>\n",
       "    <tr style=\"text-align: right;\">\n",
       "      <th></th>\n",
       "      <th>client_id</th>\n",
       "      <th>sex</th>\n",
       "      <th>categ</th>\n",
       "    </tr>\n",
       "  </thead>\n",
       "  <tbody>\n",
       "    <tr>\n",
       "      <th>0</th>\n",
       "      <td>c_103</td>\n",
       "      <td>f</td>\n",
       "      <td>0.0</td>\n",
       "    </tr>\n",
       "    <tr>\n",
       "      <th>1</th>\n",
       "      <td>c_8534</td>\n",
       "      <td>m</td>\n",
       "      <td>1.0</td>\n",
       "    </tr>\n",
       "    <tr>\n",
       "      <th>2</th>\n",
       "      <td>c_6714</td>\n",
       "      <td>f</td>\n",
       "      <td>0.0</td>\n",
       "    </tr>\n",
       "    <tr>\n",
       "      <th>3</th>\n",
       "      <td>c_6941</td>\n",
       "      <td>m</td>\n",
       "      <td>2.0</td>\n",
       "    </tr>\n",
       "    <tr>\n",
       "      <th>4</th>\n",
       "      <td>c_4232</td>\n",
       "      <td>m</td>\n",
       "      <td>0.0</td>\n",
       "    </tr>\n",
       "  </tbody>\n",
       "</table>\n",
       "</div>"
      ],
      "text/plain": [
       "  client_id sex  categ\n",
       "0     c_103   f    0.0\n",
       "1    c_8534   m    1.0\n",
       "2    c_6714   f    0.0\n",
       "3    c_6941   m    2.0\n",
       "4    c_4232   m    0.0"
      ]
     },
     "execution_count": 63,
     "metadata": {},
     "output_type": "execute_result"
    }
   ],
   "source": [
    "df_genre_categ = df_final.iloc[:,[1,2,6]].copy()\n",
    "df_genre_categ.head()"
   ]
  },
  {
   "cell_type": "code",
   "execution_count": 64,
   "metadata": {},
   "outputs": [
    {
     "data": {
      "text/html": [
       "<div>\n",
       "<style scoped>\n",
       "    .dataframe tbody tr th:only-of-type {\n",
       "        vertical-align: middle;\n",
       "    }\n",
       "\n",
       "    .dataframe tbody tr th {\n",
       "        vertical-align: top;\n",
       "    }\n",
       "\n",
       "    .dataframe thead th {\n",
       "        text-align: right;\n",
       "    }\n",
       "</style>\n",
       "<table border=\"1\" class=\"dataframe\">\n",
       "  <thead>\n",
       "    <tr style=\"text-align: right;\">\n",
       "      <th>sex</th>\n",
       "      <th>f</th>\n",
       "      <th>m</th>\n",
       "      <th>Total</th>\n",
       "    </tr>\n",
       "    <tr>\n",
       "      <th>categ</th>\n",
       "      <th></th>\n",
       "      <th></th>\n",
       "      <th></th>\n",
       "    </tr>\n",
       "  </thead>\n",
       "  <tbody>\n",
       "    <tr>\n",
       "      <th>0.0</th>\n",
       "      <td>206103</td>\n",
       "      <td>209356</td>\n",
       "      <td>415459</td>\n",
       "    </tr>\n",
       "    <tr>\n",
       "      <th>1.0</th>\n",
       "      <td>114899</td>\n",
       "      <td>112270</td>\n",
       "      <td>227169</td>\n",
       "    </tr>\n",
       "    <tr>\n",
       "      <th>2.0</th>\n",
       "      <td>17283</td>\n",
       "      <td>19200</td>\n",
       "      <td>36483</td>\n",
       "    </tr>\n",
       "    <tr>\n",
       "      <th>Total</th>\n",
       "      <td>338285</td>\n",
       "      <td>340826</td>\n",
       "      <td>679111</td>\n",
       "    </tr>\n",
       "  </tbody>\n",
       "</table>\n",
       "</div>"
      ],
      "text/plain": [
       "sex         f       m   Total\n",
       "categ                        \n",
       "0.0    206103  209356  415459\n",
       "1.0    114899  112270  227169\n",
       "2.0     17283   19200   36483\n",
       "Total  338285  340826  679111"
      ]
     },
     "execution_count": 64,
     "metadata": {},
     "output_type": "execute_result"
    }
   ],
   "source": [
    "X = \"categ\"\n",
    "Y = \"sex\"\n",
    "\n",
    "cont = df_genre_categ[[X,Y]].pivot_table(index=X,columns=Y,aggfunc= len ,margins=True,margins_name=\"Total\")\n",
    "cont"
   ]
  },
  {
   "cell_type": "code",
   "execution_count": 65,
   "metadata": {},
   "outputs": [
    {
     "data": {
      "image/png": "[encoded data removed]",
      "text/plain": [
       "<Figure size 360x504 with 2 Axes>"
      ]
     },
     "metadata": {
      "needs_background": "light"
     },
     "output_type": "display_data"
    }
   ],
   "source": [
    "\n",
    "import seaborn as sns\n",
    "\n",
    "tx = cont.loc[:,[\"Total\"]]\n",
    "ty = cont.loc[[\"Total\"],:]\n",
    "n = len(df_genre_categ)\n",
    "indep = tx.dot(ty) / n\n",
    "\n",
    "c = cont.fillna(0) \n",
    "measure = (c-indep)**2/indep\n",
    "xi_n = measure.sum().sum()\n",
    "table = measure/xi_n\n",
    "sns.heatmap(table.iloc[:-1,:-1],annot=c.iloc[:-1,:-1])\n",
    "plt.show()"
   ]
  },
  {
   "cell_type": "code",
   "execution_count": 66,
   "metadata": {},
   "outputs": [],
   "source": [
    "# interprétation : La jauge latériale nous indique une vlauer, une contribution à la non indépendance\n",
    "# plus la valer est proche de 1, plus la case sera source de non indépendance"
   ]
  },
  {
   "cell_type": "code",
   "execution_count": null,
   "metadata": {},
   "outputs": [],
   "source": []
  },
  {
   "cell_type": "markdown",
   "metadata": {},
   "source": [
    "### Section 3.2: le lien entre l'âge des clients et le montant total des achats <a class=\"anchor\" id=\"section_3_2\"></a>"
   ]
  },
  {
   "cell_type": "code",
   "execution_count": 67,
   "metadata": {},
   "outputs": [
    {
     "data": {
      "text/html": [
       "<div>\n",
       "<style scoped>\n",
       "    .dataframe tbody tr th:only-of-type {\n",
       "        vertical-align: middle;\n",
       "    }\n",
       "\n",
       "    .dataframe tbody tr th {\n",
       "        vertical-align: top;\n",
       "    }\n",
       "\n",
       "    .dataframe thead th {\n",
       "        text-align: right;\n",
       "    }\n",
       "</style>\n",
       "<table border=\"1\" class=\"dataframe\">\n",
       "  <thead>\n",
       "    <tr style=\"text-align: right;\">\n",
       "      <th></th>\n",
       "      <th>session_id</th>\n",
       "      <th>client_id</th>\n",
       "      <th>sex</th>\n",
       "      <th>birth</th>\n",
       "      <th>id_prod</th>\n",
       "      <th>price</th>\n",
       "      <th>categ</th>\n",
       "      <th>date_jours</th>\n",
       "    </tr>\n",
       "  </thead>\n",
       "  <tbody>\n",
       "    <tr>\n",
       "      <th>0</th>\n",
       "      <td>s_211425</td>\n",
       "      <td>c_103</td>\n",
       "      <td>f</td>\n",
       "      <td>1986</td>\n",
       "      <td>0_1518</td>\n",
       "      <td>4.18</td>\n",
       "      <td>0.0</td>\n",
       "      <td>2022-05-20</td>\n",
       "    </tr>\n",
       "    <tr>\n",
       "      <th>1</th>\n",
       "      <td>s_158752</td>\n",
       "      <td>c_8534</td>\n",
       "      <td>m</td>\n",
       "      <td>1988</td>\n",
       "      <td>1_251</td>\n",
       "      <td>15.99</td>\n",
       "      <td>1.0</td>\n",
       "      <td>2022-02-02</td>\n",
       "    </tr>\n",
       "    <tr>\n",
       "      <th>2</th>\n",
       "      <td>s_225667</td>\n",
       "      <td>c_6714</td>\n",
       "      <td>f</td>\n",
       "      <td>1968</td>\n",
       "      <td>0_1277</td>\n",
       "      <td>7.99</td>\n",
       "      <td>0.0</td>\n",
       "      <td>2022-06-18</td>\n",
       "    </tr>\n",
       "    <tr>\n",
       "      <th>3</th>\n",
       "      <td>s_52962</td>\n",
       "      <td>c_6941</td>\n",
       "      <td>m</td>\n",
       "      <td>2000</td>\n",
       "      <td>2_209</td>\n",
       "      <td>69.99</td>\n",
       "      <td>2.0</td>\n",
       "      <td>2021-06-24</td>\n",
       "    </tr>\n",
       "    <tr>\n",
       "      <th>4</th>\n",
       "      <td>s_325227</td>\n",
       "      <td>c_4232</td>\n",
       "      <td>m</td>\n",
       "      <td>1980</td>\n",
       "      <td>0_1509</td>\n",
       "      <td>4.99</td>\n",
       "      <td>0.0</td>\n",
       "      <td>2023-01-11</td>\n",
       "    </tr>\n",
       "  </tbody>\n",
       "</table>\n",
       "</div>"
      ],
      "text/plain": [
       "  session_id client_id sex  birth id_prod  price  categ  date_jours\n",
       "0   s_211425     c_103   f   1986  0_1518   4.18    0.0  2022-05-20\n",
       "1   s_158752    c_8534   m   1988   1_251  15.99    1.0  2022-02-02\n",
       "2   s_225667    c_6714   f   1968  0_1277   7.99    0.0  2022-06-18\n",
       "3    s_52962    c_6941   m   2000   2_209  69.99    2.0  2021-06-24\n",
       "4   s_325227    c_4232   m   1980  0_1509   4.99    0.0  2023-01-11"
      ]
     },
     "execution_count": 67,
     "metadata": {},
     "output_type": "execute_result"
    }
   ],
   "source": [
    "df_final.head()"
   ]
  },
  {
   "cell_type": "code",
   "execution_count": 68,
   "metadata": {},
   "outputs": [
    {
     "name": "stdout",
     "output_type": "stream",
     "text": [
      "Chez Lapage, nous recensons: 8600 clients.\n"
     ]
    }
   ],
   "source": [
    "# je prends les variables nécessaires\n",
    "# je groupby par client, puis je montre le montant du panier de chaque client \n",
    "\n",
    "df_age_montant = df_final.iloc[:,[1,3,5]].groupby([\"client_id\", \"birth\"]).sum('price')\n",
    "df_age_montant.rename(columns = {\"price\":\"CA_client\"}, inplace = True)\n",
    "df_age_montant.reset_index(inplace = True)\n",
    "print(\"Chez Lapage, nous recensons:\", len(df_age_montant), \"clients.\")\n"
   ]
  },
  {
   "cell_type": "code",
   "execution_count": 69,
   "metadata": {},
   "outputs": [
    {
     "data": {
      "text/html": [
       "<div>\n",
       "<style scoped>\n",
       "    .dataframe tbody tr th:only-of-type {\n",
       "        vertical-align: middle;\n",
       "    }\n",
       "\n",
       "    .dataframe tbody tr th {\n",
       "        vertical-align: top;\n",
       "    }\n",
       "\n",
       "    .dataframe thead th {\n",
       "        text-align: right;\n",
       "    }\n",
       "</style>\n",
       "<table border=\"1\" class=\"dataframe\">\n",
       "  <thead>\n",
       "    <tr style=\"text-align: right;\">\n",
       "      <th></th>\n",
       "      <th>client_id</th>\n",
       "      <th>CA_client</th>\n",
       "      <th>âge</th>\n",
       "    </tr>\n",
       "  </thead>\n",
       "  <tbody>\n",
       "    <tr>\n",
       "      <th>0</th>\n",
       "      <td>c_1</td>\n",
       "      <td>558.18</td>\n",
       "      <td>66</td>\n",
       "    </tr>\n",
       "    <tr>\n",
       "      <th>1</th>\n",
       "      <td>c_10</td>\n",
       "      <td>1353.60</td>\n",
       "      <td>65</td>\n",
       "    </tr>\n",
       "    <tr>\n",
       "      <th>2</th>\n",
       "      <td>c_100</td>\n",
       "      <td>254.85</td>\n",
       "      <td>29</td>\n",
       "    </tr>\n",
       "    <tr>\n",
       "      <th>3</th>\n",
       "      <td>c_1000</td>\n",
       "      <td>2261.89</td>\n",
       "      <td>55</td>\n",
       "    </tr>\n",
       "    <tr>\n",
       "      <th>4</th>\n",
       "      <td>c_1001</td>\n",
       "      <td>1812.86</td>\n",
       "      <td>39</td>\n",
       "    </tr>\n",
       "  </tbody>\n",
       "</table>\n",
       "</div>"
      ],
      "text/plain": [
       "  client_id  CA_client  âge\n",
       "0       c_1     558.18   66\n",
       "1      c_10    1353.60   65\n",
       "2     c_100     254.85   29\n",
       "3    c_1000    2261.89   55\n",
       "4    c_1001    1812.86   39"
      ]
     },
     "execution_count": 69,
     "metadata": {},
     "output_type": "execute_result"
    }
   ],
   "source": [
    "# on se sert de la date de naissance pour trouver l'âge du client\n",
    "pd.to_numeric(df_age_montant['birth'])\n",
    "df_age_montant['âge'] = (2021 - df_age_montant[\"birth\"])\n",
    "del df_age_montant[\"birth\"]\n",
    "df_age_montant['âge'] \n",
    "df_age_montant.head()"
   ]
  },
  {
   "cell_type": "code",
   "execution_count": 70,
   "metadata": {},
   "outputs": [
    {
     "data": {
      "text/html": [
       "<div>\n",
       "<style scoped>\n",
       "    .dataframe tbody tr th:only-of-type {\n",
       "        vertical-align: middle;\n",
       "    }\n",
       "\n",
       "    .dataframe tbody tr th {\n",
       "        vertical-align: top;\n",
       "    }\n",
       "\n",
       "    .dataframe thead th {\n",
       "        text-align: right;\n",
       "    }\n",
       "</style>\n",
       "<table border=\"1\" class=\"dataframe\">\n",
       "  <thead>\n",
       "    <tr style=\"text-align: right;\">\n",
       "      <th></th>\n",
       "      <th>CA_client</th>\n",
       "    </tr>\n",
       "    <tr>\n",
       "      <th>âge</th>\n",
       "      <th></th>\n",
       "    </tr>\n",
       "  </thead>\n",
       "  <tbody>\n",
       "    <tr>\n",
       "      <th>17</th>\n",
       "      <td>1393.624005</td>\n",
       "    </tr>\n",
       "    <tr>\n",
       "      <th>18</th>\n",
       "      <td>1228.936414</td>\n",
       "    </tr>\n",
       "    <tr>\n",
       "      <th>19</th>\n",
       "      <td>1270.188621</td>\n",
       "    </tr>\n",
       "    <tr>\n",
       "      <th>20</th>\n",
       "      <td>1427.981600</td>\n",
       "    </tr>\n",
       "    <tr>\n",
       "      <th>21</th>\n",
       "      <td>1213.293971</td>\n",
       "    </tr>\n",
       "  </tbody>\n",
       "</table>\n",
       "</div>"
      ],
      "text/plain": [
       "       CA_client\n",
       "âge             \n",
       "17   1393.624005\n",
       "18   1228.936414\n",
       "19   1270.188621\n",
       "20   1427.981600\n",
       "21   1213.293971"
      ]
     },
     "execution_count": 70,
     "metadata": {},
     "output_type": "execute_result"
    }
   ],
   "source": [
    "# on a maintenant l'âge de chaque client: on peut réunir les clients par leurs âges et regarder le panier moyen y étant associé    \n",
    "df_age_montant = df_age_montant.groupby([\"âge\"]).mean('CA_client')\n",
    "\n",
    "\"\"\" \n",
    "on voit un panier moyen très élevé (>1000€/client). Etonnant. \n",
    "Mais rappelons-nous: nous avons 11 millions de CA, pour 8000 clients\n",
    "Pour ordre d'échelle: 11*10**6 / 8*10**3 = 1200-1400€ / clients\n",
    "nos valeurs font donc sens\n",
    "\"\"\"\n",
    "df_age_montant.head() "
   ]
  },
  {
   "cell_type": "code",
   "execution_count": 71,
   "metadata": {},
   "outputs": [
    {
     "data": {
      "text/plain": [
       "<matplotlib.collections.PathCollection at 0x2ce0182eca0>"
      ]
     },
     "execution_count": 71,
     "metadata": {},
     "output_type": "execute_result"
    },
    {
     "data": {
      "image/png": "[encoded data removed]",
      "text/plain": [
       "<Figure size 360x504 with 1 Axes>"
      ]
     },
     "metadata": {
      "needs_background": "light"
     },
     "output_type": "display_data"
    }
   ],
   "source": [
    "# le scatter plot pourrait suggérer une potentiel relation\n",
    "plt.scatter( x = df_age_montant.index, y = df_age_montant['CA_client'])\n",
    "# mais ici ce n'est pas le cas. Aucun corrélation apparente "
   ]
  },
  {
   "cell_type": "code",
   "execution_count": 72,
   "metadata": {},
   "outputs": [
    {
     "data": {
      "text/plain": [
       "'\\nVérifions cette absence de corrélation entre nos variables via un test paramétrique (ou non-paramétrique)\\nIci nos données sont quantitatives continues. Nous choisirons l\\'option \"coefficient de corrélation de Pearson\"\\nUn coefficient de corrélation mesure la force de la liaison (positive ou négative) qui peut exister entre deux variables quantitatives.\\nDataFrame.corr(method=\\'pearson\\', min_periods=1)\\n'"
      ]
     },
     "execution_count": 72,
     "metadata": {},
     "output_type": "execute_result"
    }
   ],
   "source": [
    "\"\"\"\n",
    "Vérifions cette absence de corrélation entre nos variables via un test paramétrique (ou non-paramétrique)\n",
    "Ici nos données sont quantitatives continues. Nous choisirons l'option \"coefficient de corrélation de Pearson\"\n",
    "Un coefficient de corrélation mesure la force de la liaison (positive ou négative) qui peut exister entre deux variables quantitatives.\n",
    "DataFrame.corr(method='pearson', min_periods=1)\n",
    "\"\"\"\n",
    "# le coefficient de corrélation de Pearson confirmera ou non notre observation"
   ]
  },
  {
   "cell_type": "code",
   "execution_count": 73,
   "metadata": {},
   "outputs": [
    {
     "data": {
      "text/plain": [
       "-0.6336339512169257"
      ]
     },
     "execution_count": 73,
     "metadata": {},
     "output_type": "execute_result"
    }
   ],
   "source": [
    "df_age_montant['âge'] = df_age_montant.index\n",
    "\n",
    "df_age_montant['âge'].corr(df_age_montant['CA_client'], method='pearson' )\n",
    "# explication: plus ce coefficient est proche de -1 ou +1, plus l’association entre les deux variables est forte\n",
    "# ici on voit qu'il y aurait une tendance de corrélation négative non linéaire, mais à nuancer"
   ]
  },
  {
   "cell_type": "code",
   "execution_count": null,
   "metadata": {},
   "outputs": [],
   "source": []
  },
  {
   "cell_type": "markdown",
   "metadata": {},
   "source": [
    "### Section 3.3: le lien entre l'âge des clients et la fréquence d'achat <a class=\"anchor\" id=\"section_3_3\"></a>"
   ]
  },
  {
   "cell_type": "code",
   "execution_count": 74,
   "metadata": {},
   "outputs": [
    {
     "data": {
      "text/html": [
       "<div>\n",
       "<style scoped>\n",
       "    .dataframe tbody tr th:only-of-type {\n",
       "        vertical-align: middle;\n",
       "    }\n",
       "\n",
       "    .dataframe tbody tr th {\n",
       "        vertical-align: top;\n",
       "    }\n",
       "\n",
       "    .dataframe thead th {\n",
       "        text-align: right;\n",
       "    }\n",
       "</style>\n",
       "<table border=\"1\" class=\"dataframe\">\n",
       "  <thead>\n",
       "    <tr style=\"text-align: right;\">\n",
       "      <th></th>\n",
       "      <th>session_id</th>\n",
       "      <th>client_id</th>\n",
       "      <th>sex</th>\n",
       "      <th>birth</th>\n",
       "      <th>id_prod</th>\n",
       "      <th>price</th>\n",
       "      <th>categ</th>\n",
       "      <th>date_jours</th>\n",
       "    </tr>\n",
       "  </thead>\n",
       "  <tbody>\n",
       "    <tr>\n",
       "      <th>0</th>\n",
       "      <td>s_211425</td>\n",
       "      <td>c_103</td>\n",
       "      <td>f</td>\n",
       "      <td>1986</td>\n",
       "      <td>0_1518</td>\n",
       "      <td>4.18</td>\n",
       "      <td>0.0</td>\n",
       "      <td>2022-05-20</td>\n",
       "    </tr>\n",
       "    <tr>\n",
       "      <th>1</th>\n",
       "      <td>s_158752</td>\n",
       "      <td>c_8534</td>\n",
       "      <td>m</td>\n",
       "      <td>1988</td>\n",
       "      <td>1_251</td>\n",
       "      <td>15.99</td>\n",
       "      <td>1.0</td>\n",
       "      <td>2022-02-02</td>\n",
       "    </tr>\n",
       "    <tr>\n",
       "      <th>2</th>\n",
       "      <td>s_225667</td>\n",
       "      <td>c_6714</td>\n",
       "      <td>f</td>\n",
       "      <td>1968</td>\n",
       "      <td>0_1277</td>\n",
       "      <td>7.99</td>\n",
       "      <td>0.0</td>\n",
       "      <td>2022-06-18</td>\n",
       "    </tr>\n",
       "    <tr>\n",
       "      <th>3</th>\n",
       "      <td>s_52962</td>\n",
       "      <td>c_6941</td>\n",
       "      <td>m</td>\n",
       "      <td>2000</td>\n",
       "      <td>2_209</td>\n",
       "      <td>69.99</td>\n",
       "      <td>2.0</td>\n",
       "      <td>2021-06-24</td>\n",
       "    </tr>\n",
       "    <tr>\n",
       "      <th>4</th>\n",
       "      <td>s_325227</td>\n",
       "      <td>c_4232</td>\n",
       "      <td>m</td>\n",
       "      <td>1980</td>\n",
       "      <td>0_1509</td>\n",
       "      <td>4.99</td>\n",
       "      <td>0.0</td>\n",
       "      <td>2023-01-11</td>\n",
       "    </tr>\n",
       "  </tbody>\n",
       "</table>\n",
       "</div>"
      ],
      "text/plain": [
       "  session_id client_id sex  birth id_prod  price  categ  date_jours\n",
       "0   s_211425     c_103   f   1986  0_1518   4.18    0.0  2022-05-20\n",
       "1   s_158752    c_8534   m   1988   1_251  15.99    1.0  2022-02-02\n",
       "2   s_225667    c_6714   f   1968  0_1277   7.99    0.0  2022-06-18\n",
       "3    s_52962    c_6941   m   2000   2_209  69.99    2.0  2021-06-24\n",
       "4   s_325227    c_4232   m   1980  0_1509   4.99    0.0  2023-01-11"
      ]
     },
     "execution_count": 74,
     "metadata": {},
     "output_type": "execute_result"
    }
   ],
   "source": [
    "df_final.head()"
   ]
  },
  {
   "cell_type": "code",
   "execution_count": 75,
   "metadata": {},
   "outputs": [
    {
     "name": "stdout",
     "output_type": "stream",
     "text": [
      "Notre période d'étude se déroule sur: 729\n"
     ]
    }
   ],
   "source": [
    "date_min = df_final['date_jours'].min()\n",
    "date_max = df_final['date_jours'].max()\n",
    "interval = date_max - date_min\n",
    "interval = interval.days\n",
    "print(\"Notre période d'étude se déroule sur:\",interval)"
   ]
  },
  {
   "cell_type": "code",
   "execution_count": 76,
   "metadata": {},
   "outputs": [],
   "source": [
    "# on va utiliser les sessions + date. Une session = un acte d'achat"
   ]
  },
  {
   "cell_type": "code",
   "execution_count": 77,
   "metadata": {},
   "outputs": [
    {
     "data": {
      "text/html": [
       "<div>\n",
       "<style scoped>\n",
       "    .dataframe tbody tr th:only-of-type {\n",
       "        vertical-align: middle;\n",
       "    }\n",
       "\n",
       "    .dataframe tbody tr th {\n",
       "        vertical-align: top;\n",
       "    }\n",
       "\n",
       "    .dataframe thead th {\n",
       "        text-align: right;\n",
       "    }\n",
       "</style>\n",
       "<table border=\"1\" class=\"dataframe\">\n",
       "  <thead>\n",
       "    <tr style=\"text-align: right;\">\n",
       "      <th></th>\n",
       "      <th>session_id</th>\n",
       "      <th>client_id</th>\n",
       "      <th>âge</th>\n",
       "    </tr>\n",
       "  </thead>\n",
       "  <tbody>\n",
       "    <tr>\n",
       "      <th>0</th>\n",
       "      <td>s_211425</td>\n",
       "      <td>c_103</td>\n",
       "      <td>35</td>\n",
       "    </tr>\n",
       "    <tr>\n",
       "      <th>1</th>\n",
       "      <td>s_158752</td>\n",
       "      <td>c_8534</td>\n",
       "      <td>33</td>\n",
       "    </tr>\n",
       "    <tr>\n",
       "      <th>2</th>\n",
       "      <td>s_225667</td>\n",
       "      <td>c_6714</td>\n",
       "      <td>53</td>\n",
       "    </tr>\n",
       "    <tr>\n",
       "      <th>3</th>\n",
       "      <td>s_52962</td>\n",
       "      <td>c_6941</td>\n",
       "      <td>21</td>\n",
       "    </tr>\n",
       "    <tr>\n",
       "      <th>4</th>\n",
       "      <td>s_325227</td>\n",
       "      <td>c_4232</td>\n",
       "      <td>41</td>\n",
       "    </tr>\n",
       "  </tbody>\n",
       "</table>\n",
       "</div>"
      ],
      "text/plain": [
       "  session_id client_id  âge\n",
       "0   s_211425     c_103   35\n",
       "1   s_158752    c_8534   33\n",
       "2   s_225667    c_6714   53\n",
       "3    s_52962    c_6941   21\n",
       "4   s_325227    c_4232   41"
      ]
     },
     "execution_count": 77,
     "metadata": {},
     "output_type": "execute_result"
    }
   ],
   "source": [
    "df_age_frequence = df_final.iloc[:,[0,1,3]].copy()\n",
    "df_age_frequence['âge'] = (2021 - df_age_frequence[\"birth\"])\n",
    "del df_age_frequence[\"birth\"]\n",
    "df_age_frequence.head()"
   ]
  },
  {
   "cell_type": "code",
   "execution_count": 78,
   "metadata": {},
   "outputs": [],
   "source": [
    "# df_age_frequence.groupby[\"client_id\",\"âge\"].count('session_id')"
   ]
  },
  {
   "cell_type": "code",
   "execution_count": 79,
   "metadata": {},
   "outputs": [
    {
     "data": {
      "text/html": [
       "<div>\n",
       "<style scoped>\n",
       "    .dataframe tbody tr th:only-of-type {\n",
       "        vertical-align: middle;\n",
       "    }\n",
       "\n",
       "    .dataframe tbody tr th {\n",
       "        vertical-align: top;\n",
       "    }\n",
       "\n",
       "    .dataframe thead th {\n",
       "        text-align: right;\n",
       "    }\n",
       "</style>\n",
       "<table border=\"1\" class=\"dataframe\">\n",
       "  <thead>\n",
       "    <tr style=\"text-align: right;\">\n",
       "      <th></th>\n",
       "      <th>âge</th>\n",
       "      <th>nb_session_indiv</th>\n",
       "      <th>freq_indiv</th>\n",
       "    </tr>\n",
       "    <tr>\n",
       "      <th>client_id</th>\n",
       "      <th></th>\n",
       "      <th></th>\n",
       "      <th></th>\n",
       "    </tr>\n",
       "  </thead>\n",
       "  <tbody>\n",
       "    <tr>\n",
       "      <th>c_1</th>\n",
       "      <td>66</td>\n",
       "      <td>39</td>\n",
       "      <td>18.692308</td>\n",
       "    </tr>\n",
       "    <tr>\n",
       "      <th>c_10</th>\n",
       "      <td>65</td>\n",
       "      <td>58</td>\n",
       "      <td>12.568966</td>\n",
       "    </tr>\n",
       "    <tr>\n",
       "      <th>c_100</th>\n",
       "      <td>29</td>\n",
       "      <td>8</td>\n",
       "      <td>91.125000</td>\n",
       "    </tr>\n",
       "    <tr>\n",
       "      <th>c_1000</th>\n",
       "      <td>55</td>\n",
       "      <td>125</td>\n",
       "      <td>5.832000</td>\n",
       "    </tr>\n",
       "    <tr>\n",
       "      <th>c_1001</th>\n",
       "      <td>39</td>\n",
       "      <td>102</td>\n",
       "      <td>7.147059</td>\n",
       "    </tr>\n",
       "  </tbody>\n",
       "</table>\n",
       "</div>"
      ],
      "text/plain": [
       "           âge  nb_session_indiv  freq_indiv\n",
       "client_id                                   \n",
       "c_1         66                39   18.692308\n",
       "c_10        65                58   12.568966\n",
       "c_100       29                 8   91.125000\n",
       "c_1000      55               125    5.832000\n",
       "c_1001      39               102    7.147059"
      ]
     },
     "execution_count": 79,
     "metadata": {},
     "output_type": "execute_result"
    }
   ],
   "source": [
    "df_age_frequence = df_age_frequence.groupby('client_id').agg({\"âge\": 'mean', \"session_id\":'count' })\n",
    "df_age_frequence.rename(columns = {\"session_id\":\"nb_session_indiv\"}, inplace = True)\n",
    "df_age_frequence['freq_indiv'] = interval / df_age_frequence['nb_session_indiv']\n",
    "df_age_frequence.head()\n",
    "# ici on peut voir que le client c_1 a commandé 39 fois, soit un fois tous les 18,69 jours en moyenne."
   ]
  },
  {
   "cell_type": "code",
   "execution_count": 80,
   "metadata": {},
   "outputs": [
    {
     "data": {
      "text/html": [
       "<div>\n",
       "<style scoped>\n",
       "    .dataframe tbody tr th:only-of-type {\n",
       "        vertical-align: middle;\n",
       "    }\n",
       "\n",
       "    .dataframe tbody tr th {\n",
       "        vertical-align: top;\n",
       "    }\n",
       "\n",
       "    .dataframe thead th {\n",
       "        text-align: right;\n",
       "    }\n",
       "</style>\n",
       "<table border=\"1\" class=\"dataframe\">\n",
       "  <thead>\n",
       "    <tr style=\"text-align: right;\">\n",
       "      <th></th>\n",
       "      <th>âge</th>\n",
       "      <th>nb_session_moyen</th>\n",
       "      <th>freq_moyenne</th>\n",
       "    </tr>\n",
       "  </thead>\n",
       "  <tbody>\n",
       "    <tr>\n",
       "      <th>0</th>\n",
       "      <td>17</td>\n",
       "      <td>34.665904</td>\n",
       "      <td>40.260782</td>\n",
       "    </tr>\n",
       "    <tr>\n",
       "      <th>1</th>\n",
       "      <td>18</td>\n",
       "      <td>30.144828</td>\n",
       "      <td>48.328491</td>\n",
       "    </tr>\n",
       "    <tr>\n",
       "      <th>2</th>\n",
       "      <td>19</td>\n",
       "      <td>31.613793</td>\n",
       "      <td>43.784328</td>\n",
       "    </tr>\n",
       "    <tr>\n",
       "      <th>3</th>\n",
       "      <td>20</td>\n",
       "      <td>34.016000</td>\n",
       "      <td>39.700914</td>\n",
       "    </tr>\n",
       "    <tr>\n",
       "      <th>4</th>\n",
       "      <td>21</td>\n",
       "      <td>32.448529</td>\n",
       "      <td>44.064073</td>\n",
       "    </tr>\n",
       "  </tbody>\n",
       "</table>\n",
       "</div>"
      ],
      "text/plain": [
       "   âge  nb_session_moyen  freq_moyenne\n",
       "0   17         34.665904     40.260782\n",
       "1   18         30.144828     48.328491\n",
       "2   19         31.613793     43.784328\n",
       "3   20         34.016000     39.700914\n",
       "4   21         32.448529     44.064073"
      ]
     },
     "execution_count": 80,
     "metadata": {},
     "output_type": "execute_result"
    }
   ],
   "source": [
    "df_age_frequence = df_age_frequence.groupby(\"âge\", as_index = False).agg({\"nb_session_indiv\":\"mean\",\"freq_indiv\":\"mean\"})\n",
    "df_age_frequence.rename(columns = {\"nb_session_indiv\":\"nb_session_moyen\",\"freq_indiv\":\"freq_moyenne\"}, inplace = True)\n",
    "df_age_frequence.head()"
   ]
  },
  {
   "cell_type": "code",
   "execution_count": 81,
   "metadata": {},
   "outputs": [
    {
     "data": {
      "text/plain": [
       "<matplotlib.collections.PathCollection at 0x2ce01911b20>"
      ]
     },
     "execution_count": 81,
     "metadata": {},
     "output_type": "execute_result"
    },
    {
     "data": {
      "image/png": "[encoded data removed]",
      "text/plain": [
       "<Figure size 360x504 with 1 Axes>"
      ]
     },
     "metadata": {
      "needs_background": "light"
     },
     "output_type": "display_data"
    }
   ],
   "source": [
    "plt.scatter( x = df_age_frequence['âge'], y = df_age_frequence['freq_moyenne'])"
   ]
  },
  {
   "cell_type": "code",
   "execution_count": 82,
   "metadata": {},
   "outputs": [
    {
     "data": {
      "text/plain": [
       "0.026998316211544037"
      ]
     },
     "execution_count": 82,
     "metadata": {},
     "output_type": "execute_result"
    }
   ],
   "source": [
    "df_age_frequence['âge'].corr(df_age_frequence['freq_moyenne'], method='pearson' )"
   ]
  },
  {
   "cell_type": "code",
   "execution_count": 83,
   "metadata": {},
   "outputs": [],
   "source": [
    "# absence de corrélation "
   ]
  },
  {
   "cell_type": "code",
   "execution_count": null,
   "metadata": {},
   "outputs": [],
   "source": []
  },
  {
   "cell_type": "code",
   "execution_count": null,
   "metadata": {},
   "outputs": [],
   "source": []
  },
  {
   "cell_type": "code",
   "execution_count": null,
   "metadata": {},
   "outputs": [],
   "source": []
  },
  {
   "cell_type": "markdown",
   "metadata": {},
   "source": [
    "### Section 3.4: le lien entre l'âge des clients et la taille du panier moyen <a class=\"anchor\" id=\"section_3_4\"></a>"
   ]
  },
  {
   "cell_type": "code",
   "execution_count": 84,
   "metadata": {},
   "outputs": [
    {
     "data": {
      "text/html": [
       "<div>\n",
       "<style scoped>\n",
       "    .dataframe tbody tr th:only-of-type {\n",
       "        vertical-align: middle;\n",
       "    }\n",
       "\n",
       "    .dataframe tbody tr th {\n",
       "        vertical-align: top;\n",
       "    }\n",
       "\n",
       "    .dataframe thead th {\n",
       "        text-align: right;\n",
       "    }\n",
       "</style>\n",
       "<table border=\"1\" class=\"dataframe\">\n",
       "  <thead>\n",
       "    <tr style=\"text-align: right;\">\n",
       "      <th></th>\n",
       "      <th>session_id</th>\n",
       "      <th>client_id</th>\n",
       "      <th>sex</th>\n",
       "      <th>birth</th>\n",
       "      <th>id_prod</th>\n",
       "      <th>price</th>\n",
       "      <th>categ</th>\n",
       "      <th>date_jours</th>\n",
       "    </tr>\n",
       "  </thead>\n",
       "  <tbody>\n",
       "    <tr>\n",
       "      <th>0</th>\n",
       "      <td>s_211425</td>\n",
       "      <td>c_103</td>\n",
       "      <td>f</td>\n",
       "      <td>1986</td>\n",
       "      <td>0_1518</td>\n",
       "      <td>4.18</td>\n",
       "      <td>0.0</td>\n",
       "      <td>2022-05-20</td>\n",
       "    </tr>\n",
       "    <tr>\n",
       "      <th>1</th>\n",
       "      <td>s_158752</td>\n",
       "      <td>c_8534</td>\n",
       "      <td>m</td>\n",
       "      <td>1988</td>\n",
       "      <td>1_251</td>\n",
       "      <td>15.99</td>\n",
       "      <td>1.0</td>\n",
       "      <td>2022-02-02</td>\n",
       "    </tr>\n",
       "    <tr>\n",
       "      <th>2</th>\n",
       "      <td>s_225667</td>\n",
       "      <td>c_6714</td>\n",
       "      <td>f</td>\n",
       "      <td>1968</td>\n",
       "      <td>0_1277</td>\n",
       "      <td>7.99</td>\n",
       "      <td>0.0</td>\n",
       "      <td>2022-06-18</td>\n",
       "    </tr>\n",
       "    <tr>\n",
       "      <th>3</th>\n",
       "      <td>s_52962</td>\n",
       "      <td>c_6941</td>\n",
       "      <td>m</td>\n",
       "      <td>2000</td>\n",
       "      <td>2_209</td>\n",
       "      <td>69.99</td>\n",
       "      <td>2.0</td>\n",
       "      <td>2021-06-24</td>\n",
       "    </tr>\n",
       "    <tr>\n",
       "      <th>4</th>\n",
       "      <td>s_325227</td>\n",
       "      <td>c_4232</td>\n",
       "      <td>m</td>\n",
       "      <td>1980</td>\n",
       "      <td>0_1509</td>\n",
       "      <td>4.99</td>\n",
       "      <td>0.0</td>\n",
       "      <td>2023-01-11</td>\n",
       "    </tr>\n",
       "  </tbody>\n",
       "</table>\n",
       "</div>"
      ],
      "text/plain": [
       "  session_id client_id sex  birth id_prod  price  categ  date_jours\n",
       "0   s_211425     c_103   f   1986  0_1518   4.18    0.0  2022-05-20\n",
       "1   s_158752    c_8534   m   1988   1_251  15.99    1.0  2022-02-02\n",
       "2   s_225667    c_6714   f   1968  0_1277   7.99    0.0  2022-06-18\n",
       "3    s_52962    c_6941   m   2000   2_209  69.99    2.0  2021-06-24\n",
       "4   s_325227    c_4232   m   1980  0_1509   4.99    0.0  2023-01-11"
      ]
     },
     "execution_count": 84,
     "metadata": {},
     "output_type": "execute_result"
    }
   ],
   "source": [
    "df_final.head()"
   ]
  },
  {
   "cell_type": "code",
   "execution_count": 85,
   "metadata": {},
   "outputs": [
    {
     "data": {
      "text/html": [
       "<div>\n",
       "<style scoped>\n",
       "    .dataframe tbody tr th:only-of-type {\n",
       "        vertical-align: middle;\n",
       "    }\n",
       "\n",
       "    .dataframe tbody tr th {\n",
       "        vertical-align: top;\n",
       "    }\n",
       "\n",
       "    .dataframe thead th {\n",
       "        text-align: right;\n",
       "    }\n",
       "</style>\n",
       "<table border=\"1\" class=\"dataframe\">\n",
       "  <thead>\n",
       "    <tr style=\"text-align: right;\">\n",
       "      <th></th>\n",
       "      <th>âge</th>\n",
       "      <th>nb_achat</th>\n",
       "    </tr>\n",
       "  </thead>\n",
       "  <tbody>\n",
       "    <tr>\n",
       "      <th>0</th>\n",
       "      <td>17</td>\n",
       "      <td>1.762741</td>\n",
       "    </tr>\n",
       "    <tr>\n",
       "      <th>1</th>\n",
       "      <td>18</td>\n",
       "      <td>1.702766</td>\n",
       "    </tr>\n",
       "    <tr>\n",
       "      <th>2</th>\n",
       "      <td>19</td>\n",
       "      <td>1.760369</td>\n",
       "    </tr>\n",
       "    <tr>\n",
       "      <th>3</th>\n",
       "      <td>20</td>\n",
       "      <td>1.749074</td>\n",
       "    </tr>\n",
       "    <tr>\n",
       "      <th>4</th>\n",
       "      <td>21</td>\n",
       "      <td>1.822800</td>\n",
       "    </tr>\n",
       "  </tbody>\n",
       "</table>\n",
       "</div>"
      ],
      "text/plain": [
       "   âge  nb_achat\n",
       "0   17  1.762741\n",
       "1   18  1.702766\n",
       "2   19  1.760369\n",
       "3   20  1.749074\n",
       "4   21  1.822800"
      ]
     },
     "execution_count": 85,
     "metadata": {},
     "output_type": "execute_result"
    }
   ],
   "source": [
    "# ici toutes nos étapes sont concentrées sans explication: il s'agit d'une requête très proche de celle âge/montant\n",
    "df_age_quantite = df_final.iloc[:,[0,1,3,5]].copy()\n",
    "pd.to_numeric(df_age_quantite['birth'])\n",
    "df_age_quantite['âge'] = (2021 - df_age_quantite[\"birth\"])\n",
    "del df_age_quantite[\"birth\"]\n",
    "df_age_quantite = df_age_quantite.groupby([\"session_id\",\"client_id\"]).agg({\"âge\":'mean',\"price\":'count'})\n",
    "df_age_quantite.rename(columns = {\"price\":\"nb_achat\"}, inplace = True)\n",
    "df_age_quantite = df_age_quantite.groupby([\"âge\"]).mean('nb_achat')\n",
    "df_age_quantite.reset_index(inplace = True)\n",
    "df_age_quantite.head()"
   ]
  },
  {
   "cell_type": "code",
   "execution_count": 86,
   "metadata": {},
   "outputs": [
    {
     "data": {
      "text/plain": [
       "<matplotlib.collections.PathCollection at 0x2ce0194bdc0>"
      ]
     },
     "execution_count": 86,
     "metadata": {},
     "output_type": "execute_result"
    },
    {
     "data": {
      "image/png": "[encoded data removed]",
      "text/plain": [
       "<Figure size 360x504 with 1 Axes>"
      ]
     },
     "metadata": {
      "needs_background": "light"
     },
     "output_type": "display_data"
    }
   ],
   "source": [
    "plt.scatter( x = df_age_quantite['âge'], y = df_age_quantite['nb_achat'])"
   ]
  },
  {
   "cell_type": "code",
   "execution_count": 87,
   "metadata": {},
   "outputs": [
    {
     "data": {
      "text/plain": [
       "-0.6120847573479152"
      ]
     },
     "execution_count": 87,
     "metadata": {},
     "output_type": "execute_result"
    }
   ],
   "source": [
    "df_age_quantite['âge'].corr(df_age_quantite['nb_achat'], method='spearman' )"
   ]
  },
  {
   "cell_type": "code",
   "execution_count": 88,
   "metadata": {},
   "outputs": [
    {
     "data": {
      "text/plain": [
       "\" \\nLe coefficient de Spearman indique que la relation entre nos deux variables serait de type dégressif modérée. \\nCependant l'observation du nuage de point reste le plus important. 3 groupes se distinguent.\\n\""
      ]
     },
     "execution_count": 88,
     "metadata": {},
     "output_type": "execute_result"
    }
   ],
   "source": [
    "\"\"\" \n",
    "Le coefficient de Spearman indique que la relation entre nos deux variables serait de type dégressif modérée. \n",
    "Cependant l'observation du nuage de point reste le plus important. 3 groupes se distinguent.\n",
    "\"\"\""
   ]
  },
  {
   "cell_type": "code",
   "execution_count": null,
   "metadata": {},
   "outputs": [],
   "source": []
  },
  {
   "cell_type": "markdown",
   "metadata": {},
   "source": [
    "### Section 3.5: le lien entre l'âge des clients et les catégories des livres achetés <a class=\"anchor\" id=\"section_3_5\"></a>"
   ]
  },
  {
   "cell_type": "code",
   "execution_count": 89,
   "metadata": {},
   "outputs": [
    {
     "data": {
      "text/html": [
       "<div>\n",
       "<style scoped>\n",
       "    .dataframe tbody tr th:only-of-type {\n",
       "        vertical-align: middle;\n",
       "    }\n",
       "\n",
       "    .dataframe tbody tr th {\n",
       "        vertical-align: top;\n",
       "    }\n",
       "\n",
       "    .dataframe thead th {\n",
       "        text-align: right;\n",
       "    }\n",
       "</style>\n",
       "<table border=\"1\" class=\"dataframe\">\n",
       "  <thead>\n",
       "    <tr style=\"text-align: right;\">\n",
       "      <th></th>\n",
       "      <th>session_id</th>\n",
       "      <th>client_id</th>\n",
       "      <th>sex</th>\n",
       "      <th>birth</th>\n",
       "      <th>id_prod</th>\n",
       "      <th>price</th>\n",
       "      <th>categ</th>\n",
       "      <th>date_jours</th>\n",
       "    </tr>\n",
       "  </thead>\n",
       "  <tbody>\n",
       "    <tr>\n",
       "      <th>0</th>\n",
       "      <td>s_211425</td>\n",
       "      <td>c_103</td>\n",
       "      <td>f</td>\n",
       "      <td>1986</td>\n",
       "      <td>0_1518</td>\n",
       "      <td>4.18</td>\n",
       "      <td>0.0</td>\n",
       "      <td>2022-05-20</td>\n",
       "    </tr>\n",
       "    <tr>\n",
       "      <th>1</th>\n",
       "      <td>s_158752</td>\n",
       "      <td>c_8534</td>\n",
       "      <td>m</td>\n",
       "      <td>1988</td>\n",
       "      <td>1_251</td>\n",
       "      <td>15.99</td>\n",
       "      <td>1.0</td>\n",
       "      <td>2022-02-02</td>\n",
       "    </tr>\n",
       "    <tr>\n",
       "      <th>2</th>\n",
       "      <td>s_225667</td>\n",
       "      <td>c_6714</td>\n",
       "      <td>f</td>\n",
       "      <td>1968</td>\n",
       "      <td>0_1277</td>\n",
       "      <td>7.99</td>\n",
       "      <td>0.0</td>\n",
       "      <td>2022-06-18</td>\n",
       "    </tr>\n",
       "    <tr>\n",
       "      <th>3</th>\n",
       "      <td>s_52962</td>\n",
       "      <td>c_6941</td>\n",
       "      <td>m</td>\n",
       "      <td>2000</td>\n",
       "      <td>2_209</td>\n",
       "      <td>69.99</td>\n",
       "      <td>2.0</td>\n",
       "      <td>2021-06-24</td>\n",
       "    </tr>\n",
       "    <tr>\n",
       "      <th>4</th>\n",
       "      <td>s_325227</td>\n",
       "      <td>c_4232</td>\n",
       "      <td>m</td>\n",
       "      <td>1980</td>\n",
       "      <td>0_1509</td>\n",
       "      <td>4.99</td>\n",
       "      <td>0.0</td>\n",
       "      <td>2023-01-11</td>\n",
       "    </tr>\n",
       "  </tbody>\n",
       "</table>\n",
       "</div>"
      ],
      "text/plain": [
       "  session_id client_id sex  birth id_prod  price  categ  date_jours\n",
       "0   s_211425     c_103   f   1986  0_1518   4.18    0.0  2022-05-20\n",
       "1   s_158752    c_8534   m   1988   1_251  15.99    1.0  2022-02-02\n",
       "2   s_225667    c_6714   f   1968  0_1277   7.99    0.0  2022-06-18\n",
       "3    s_52962    c_6941   m   2000   2_209  69.99    2.0  2021-06-24\n",
       "4   s_325227    c_4232   m   1980  0_1509   4.99    0.0  2023-01-11"
      ]
     },
     "execution_count": 89,
     "metadata": {},
     "output_type": "execute_result"
    }
   ],
   "source": [
    "df_final.head()"
   ]
  },
  {
   "cell_type": "code",
   "execution_count": 90,
   "metadata": {},
   "outputs": [
    {
     "data": {
      "text/html": [
       "<div>\n",
       "<style scoped>\n",
       "    .dataframe tbody tr th:only-of-type {\n",
       "        vertical-align: middle;\n",
       "    }\n",
       "\n",
       "    .dataframe tbody tr th {\n",
       "        vertical-align: top;\n",
       "    }\n",
       "\n",
       "    .dataframe thead th {\n",
       "        text-align: right;\n",
       "    }\n",
       "</style>\n",
       "<table border=\"1\" class=\"dataframe\">\n",
       "  <thead>\n",
       "    <tr style=\"text-align: right;\">\n",
       "      <th></th>\n",
       "      <th>client_id</th>\n",
       "      <th>categ</th>\n",
       "      <th>âge</th>\n",
       "    </tr>\n",
       "  </thead>\n",
       "  <tbody>\n",
       "    <tr>\n",
       "      <th>0</th>\n",
       "      <td>c_103</td>\n",
       "      <td>0.0</td>\n",
       "      <td>35</td>\n",
       "    </tr>\n",
       "    <tr>\n",
       "      <th>1</th>\n",
       "      <td>c_8534</td>\n",
       "      <td>1.0</td>\n",
       "      <td>33</td>\n",
       "    </tr>\n",
       "    <tr>\n",
       "      <th>2</th>\n",
       "      <td>c_6714</td>\n",
       "      <td>0.0</td>\n",
       "      <td>53</td>\n",
       "    </tr>\n",
       "    <tr>\n",
       "      <th>3</th>\n",
       "      <td>c_6941</td>\n",
       "      <td>2.0</td>\n",
       "      <td>21</td>\n",
       "    </tr>\n",
       "    <tr>\n",
       "      <th>4</th>\n",
       "      <td>c_4232</td>\n",
       "      <td>0.0</td>\n",
       "      <td>41</td>\n",
       "    </tr>\n",
       "  </tbody>\n",
       "</table>\n",
       "</div>"
      ],
      "text/plain": [
       "  client_id  categ  âge\n",
       "0     c_103    0.0   35\n",
       "1    c_8534    1.0   33\n",
       "2    c_6714    0.0   53\n",
       "3    c_6941    2.0   21\n",
       "4    c_4232    0.0   41"
      ]
     },
     "execution_count": 90,
     "metadata": {},
     "output_type": "execute_result"
    }
   ],
   "source": [
    "df_age_categ = df_final.iloc[:,[1,3,6]].copy()\n",
    "df_age_categ['âge'] = (2021 - df_age_categ[\"birth\"])\n",
    "del df_age_categ[\"birth\"]\n",
    "df_age_categ.head()"
   ]
  },
  {
   "cell_type": "code",
   "execution_count": 91,
   "metadata": {},
   "outputs": [
    {
     "data": {
      "text/html": [
       "<div>\n",
       "<style scoped>\n",
       "    .dataframe tbody tr th:only-of-type {\n",
       "        vertical-align: middle;\n",
       "    }\n",
       "\n",
       "    .dataframe tbody tr th {\n",
       "        vertical-align: top;\n",
       "    }\n",
       "\n",
       "    .dataframe thead th {\n",
       "        text-align: right;\n",
       "    }\n",
       "</style>\n",
       "<table border=\"1\" class=\"dataframe\">\n",
       "  <thead>\n",
       "    <tr style=\"text-align: right;\">\n",
       "      <th></th>\n",
       "      <th>âge</th>\n",
       "      <th>categ</th>\n",
       "      <th>nb_achat_absolu</th>\n",
       "    </tr>\n",
       "  </thead>\n",
       "  <tbody>\n",
       "    <tr>\n",
       "      <th>0</th>\n",
       "      <td>17</td>\n",
       "      <td>0.0</td>\n",
       "      <td>3418</td>\n",
       "    </tr>\n",
       "    <tr>\n",
       "      <th>1</th>\n",
       "      <td>17</td>\n",
       "      <td>1.0</td>\n",
       "      <td>5719</td>\n",
       "    </tr>\n",
       "    <tr>\n",
       "      <th>2</th>\n",
       "      <td>17</td>\n",
       "      <td>2.0</td>\n",
       "      <td>6012</td>\n",
       "    </tr>\n",
       "    <tr>\n",
       "      <th>3</th>\n",
       "      <td>18</td>\n",
       "      <td>0.0</td>\n",
       "      <td>909</td>\n",
       "    </tr>\n",
       "    <tr>\n",
       "      <th>4</th>\n",
       "      <td>18</td>\n",
       "      <td>1.0</td>\n",
       "      <td>1678</td>\n",
       "    </tr>\n",
       "  </tbody>\n",
       "</table>\n",
       "</div>"
      ],
      "text/plain": [
       "   âge  categ  nb_achat_absolu\n",
       "0   17    0.0             3418\n",
       "1   17    1.0             5719\n",
       "2   17    2.0             6012\n",
       "3   18    0.0              909\n",
       "4   18    1.0             1678"
      ]
     },
     "execution_count": 91,
     "metadata": {},
     "output_type": "execute_result"
    }
   ],
   "source": [
    "df_age_categ = df_age_categ.groupby(['âge','categ']).count()\n",
    "df_age_categ.reset_index(inplace = True)\n",
    "df_age_categ.rename(columns = {\"client_id\":\"nb_achat_absolu\"}, inplace = True)\n",
    "df_age_categ.head()"
   ]
  },
  {
   "cell_type": "code",
   "execution_count": 92,
   "metadata": {},
   "outputs": [
    {
     "data": {
      "text/html": [
       "<div>\n",
       "<style scoped>\n",
       "    .dataframe tbody tr th:only-of-type {\n",
       "        vertical-align: middle;\n",
       "    }\n",
       "\n",
       "    .dataframe tbody tr th {\n",
       "        vertical-align: top;\n",
       "    }\n",
       "\n",
       "    .dataframe thead th {\n",
       "        text-align: right;\n",
       "    }\n",
       "</style>\n",
       "<table border=\"1\" class=\"dataframe\">\n",
       "  <thead>\n",
       "    <tr style=\"text-align: right;\">\n",
       "      <th></th>\n",
       "      <th>âge</th>\n",
       "      <th>nb_client_cetage</th>\n",
       "    </tr>\n",
       "  </thead>\n",
       "  <tbody>\n",
       "    <tr>\n",
       "      <th>0</th>\n",
       "      <td>17</td>\n",
       "      <td>437</td>\n",
       "    </tr>\n",
       "    <tr>\n",
       "      <th>1</th>\n",
       "      <td>18</td>\n",
       "      <td>145</td>\n",
       "    </tr>\n",
       "    <tr>\n",
       "      <th>2</th>\n",
       "      <td>19</td>\n",
       "      <td>145</td>\n",
       "    </tr>\n",
       "    <tr>\n",
       "      <th>3</th>\n",
       "      <td>20</td>\n",
       "      <td>125</td>\n",
       "    </tr>\n",
       "    <tr>\n",
       "      <th>4</th>\n",
       "      <td>21</td>\n",
       "      <td>136</td>\n",
       "    </tr>\n",
       "  </tbody>\n",
       "</table>\n",
       "</div>"
      ],
      "text/plain": [
       "   âge  nb_client_cetage\n",
       "0   17               437\n",
       "1   18               145\n",
       "2   19               145\n",
       "3   20               125\n",
       "4   21               136"
      ]
     },
     "execution_count": 92,
     "metadata": {},
     "output_type": "execute_result"
    }
   ],
   "source": [
    "df_nb_clients_age = df_final.iloc[:,[1,3]].copy()\n",
    "df_nb_clients_age['âge'] = (2021 - df_nb_clients_age[\"birth\"])\n",
    "del df_nb_clients_age[\"birth\"]\n",
    "df_nb_clients_age = df_nb_clients_age.groupby(\"client_id\", as_index = False).mean()\n",
    "df_nb_clients_age = df_nb_clients_age.groupby(\"âge\", as_index = False).count()\n",
    "df_nb_clients_age.rename(columns = {\"client_id\":\"nb_client_cetage\"}, inplace = True)\n",
    "df_nb_clients_age.head()"
   ]
  },
  {
   "cell_type": "code",
   "execution_count": 93,
   "metadata": {},
   "outputs": [
    {
     "data": {
      "text/html": [
       "<div>\n",
       "<style scoped>\n",
       "    .dataframe tbody tr th:only-of-type {\n",
       "        vertical-align: middle;\n",
       "    }\n",
       "\n",
       "    .dataframe tbody tr th {\n",
       "        vertical-align: top;\n",
       "    }\n",
       "\n",
       "    .dataframe thead th {\n",
       "        text-align: right;\n",
       "    }\n",
       "</style>\n",
       "<table border=\"1\" class=\"dataframe\">\n",
       "  <thead>\n",
       "    <tr style=\"text-align: right;\">\n",
       "      <th></th>\n",
       "      <th>âge</th>\n",
       "      <th>categ</th>\n",
       "      <th>nb_achat_absolu</th>\n",
       "      <th>nb_client_cetage</th>\n",
       "    </tr>\n",
       "  </thead>\n",
       "  <tbody>\n",
       "    <tr>\n",
       "      <th>0</th>\n",
       "      <td>17</td>\n",
       "      <td>0.0</td>\n",
       "      <td>3418</td>\n",
       "      <td>437</td>\n",
       "    </tr>\n",
       "    <tr>\n",
       "      <th>1</th>\n",
       "      <td>17</td>\n",
       "      <td>1.0</td>\n",
       "      <td>5719</td>\n",
       "      <td>437</td>\n",
       "    </tr>\n",
       "    <tr>\n",
       "      <th>2</th>\n",
       "      <td>17</td>\n",
       "      <td>2.0</td>\n",
       "      <td>6012</td>\n",
       "      <td>437</td>\n",
       "    </tr>\n",
       "    <tr>\n",
       "      <th>3</th>\n",
       "      <td>18</td>\n",
       "      <td>0.0</td>\n",
       "      <td>909</td>\n",
       "      <td>145</td>\n",
       "    </tr>\n",
       "    <tr>\n",
       "      <th>4</th>\n",
       "      <td>18</td>\n",
       "      <td>1.0</td>\n",
       "      <td>1678</td>\n",
       "      <td>145</td>\n",
       "    </tr>\n",
       "  </tbody>\n",
       "</table>\n",
       "</div>"
      ],
      "text/plain": [
       "   âge  categ  nb_achat_absolu  nb_client_cetage\n",
       "0   17    0.0             3418               437\n",
       "1   17    1.0             5719               437\n",
       "2   17    2.0             6012               437\n",
       "3   18    0.0              909               145\n",
       "4   18    1.0             1678               145"
      ]
     },
     "execution_count": 93,
     "metadata": {},
     "output_type": "execute_result"
    }
   ],
   "source": [
    "df_age_categ = df_age_categ.merge(df_nb_clients_age, how ='left', on = \"âge\")\n",
    "df_age_categ.head()"
   ]
  },
  {
   "cell_type": "code",
   "execution_count": 94,
   "metadata": {},
   "outputs": [
    {
     "data": {
      "text/html": [
       "<div>\n",
       "<style scoped>\n",
       "    .dataframe tbody tr th:only-of-type {\n",
       "        vertical-align: middle;\n",
       "    }\n",
       "\n",
       "    .dataframe tbody tr th {\n",
       "        vertical-align: top;\n",
       "    }\n",
       "\n",
       "    .dataframe thead th {\n",
       "        text-align: right;\n",
       "    }\n",
       "</style>\n",
       "<table border=\"1\" class=\"dataframe\">\n",
       "  <thead>\n",
       "    <tr style=\"text-align: right;\">\n",
       "      <th></th>\n",
       "      <th>âge</th>\n",
       "      <th>categ</th>\n",
       "      <th>nb_achat_absolu</th>\n",
       "      <th>nb_client_cetage</th>\n",
       "      <th>nb_achat_moyen</th>\n",
       "    </tr>\n",
       "  </thead>\n",
       "  <tbody>\n",
       "    <tr>\n",
       "      <th>0</th>\n",
       "      <td>17</td>\n",
       "      <td>0.0</td>\n",
       "      <td>3418</td>\n",
       "      <td>437</td>\n",
       "      <td>7.821510</td>\n",
       "    </tr>\n",
       "    <tr>\n",
       "      <th>1</th>\n",
       "      <td>17</td>\n",
       "      <td>1.0</td>\n",
       "      <td>5719</td>\n",
       "      <td>437</td>\n",
       "      <td>13.086957</td>\n",
       "    </tr>\n",
       "    <tr>\n",
       "      <th>2</th>\n",
       "      <td>17</td>\n",
       "      <td>2.0</td>\n",
       "      <td>6012</td>\n",
       "      <td>437</td>\n",
       "      <td>13.757437</td>\n",
       "    </tr>\n",
       "    <tr>\n",
       "      <th>3</th>\n",
       "      <td>18</td>\n",
       "      <td>0.0</td>\n",
       "      <td>909</td>\n",
       "      <td>145</td>\n",
       "      <td>6.268966</td>\n",
       "    </tr>\n",
       "    <tr>\n",
       "      <th>4</th>\n",
       "      <td>18</td>\n",
       "      <td>1.0</td>\n",
       "      <td>1678</td>\n",
       "      <td>145</td>\n",
       "      <td>11.572414</td>\n",
       "    </tr>\n",
       "  </tbody>\n",
       "</table>\n",
       "</div>"
      ],
      "text/plain": [
       "   âge  categ  nb_achat_absolu  nb_client_cetage  nb_achat_moyen\n",
       "0   17    0.0             3418               437        7.821510\n",
       "1   17    1.0             5719               437       13.086957\n",
       "2   17    2.0             6012               437       13.757437\n",
       "3   18    0.0              909               145        6.268966\n",
       "4   18    1.0             1678               145       11.572414"
      ]
     },
     "execution_count": 94,
     "metadata": {},
     "output_type": "execute_result"
    }
   ],
   "source": [
    "df_age_categ['nb_achat_moyen'] = df_age_categ['nb_achat_absolu'] / df_age_categ['nb_client_cetage']\n",
    "df_age_categ.head()"
   ]
  },
  {
   "cell_type": "code",
   "execution_count": 95,
   "metadata": {},
   "outputs": [],
   "source": [
    "df_0 = df_age_categ[df_age_categ['categ'].eq(0.0)]\n",
    "y0 = df_0['nb_achat_moyen']\n",
    "x0 = df_0['âge']\n",
    "\n",
    "df_1 = df_age_categ[df_age_categ['categ'].eq(1.0)]\n",
    "y1 = df_1['nb_achat_moyen']\n",
    "x1 = df_1['âge']\n",
    "\n",
    "df_2 = df_age_categ[df_age_categ['categ'].eq(2.0)]\n",
    "y2 = df_2['nb_achat_moyen']\n",
    "x2 = df_2['âge']"
   ]
  },
  {
   "cell_type": "code",
   "execution_count": 96,
   "metadata": {},
   "outputs": [
    {
     "data": {
      "image/png": "[encoded data removed]",
      "text/plain": [
       "<Figure size 1008x504 with 1 Axes>"
      ]
     },
     "metadata": {
      "needs_background": "light"
     },
     "output_type": "display_data"
    }
   ],
   "source": [
    "fig = plt.figure( figsize=(14, 7))\n",
    "categ_0 = plt.plot(x0, y0, color ='blue')\n",
    "categ_1 = plt.plot(x1, y1, color ='green')\n",
    "categ_2 = plt.plot(x2, y2, color ='pink')\n",
    "\n",
    "plt.xlabel(\"Age des clients\", labelpad = 10)\n",
    "plt.ylabel(\"Nombre d'achat moyen des clients\", labelpad = 15)\n",
    "plt.grid(True)\n",
    "plt.title(\"Courbes du nombre moyen d'achats en fonction de l'âge des clients et de la catégorie\",\n",
    "          {'size'   : 12}, pad = 15)\n",
    "plt.legend(['categ_0', 'categ_1', 'categ_2'])\n",
    "\n",
    "plt.show()\n"
   ]
  },
  {
   "cell_type": "code",
   "execution_count": 97,
   "metadata": {},
   "outputs": [],
   "source": [
    "# nous remarquons que les courbes catégorie 0 et catégorie 1 ont presque la même forme. Nous allons comparer ces catégories avec un test paramétrique\n",
    "# nous allons utiliser un test de Student (non apparié), pour comparer leurs moyennes et voir elles sont significativement différentes"
   ]
  },
  {
   "cell_type": "code",
   "execution_count": 98,
   "metadata": {},
   "outputs": [
    {
     "name": "stdout",
     "output_type": "stream",
     "text": [
      "5.000968528179328e-10\n",
      "7.874789844208863e-06\n"
     ]
    }
   ],
   "source": [
    "# Hypothèse nulle (Ho) : les moyennes des catégories sont identiques \n",
    "# Hypothèse alternative (H1) : les moyennes des catégories sont différentes \n",
    "\n",
    "# 1) Contrôler la normalité des échantillons\n",
    "\n",
    "X0 = df_0['nb_achat_moyen']\n",
    "X1 = df_1['nb_achat_moyen']\n",
    "\n",
    "from scipy.stats import shapiro\n",
    "x0, pval0 = shapiro(X0)\n",
    "x1, pval1 = shapiro(X1)\n",
    "\n",
    "print(pval0)\n",
    "print(pval1)\n",
    "\n"
   ]
  },
  {
   "cell_type": "code",
   "execution_count": 99,
   "metadata": {},
   "outputs": [
    {
     "data": {
      "text/plain": [
       "F_onewayResult(statistic=8.504919266913376, pvalue=0.004086107855620418)"
      ]
     },
     "execution_count": 99,
     "metadata": {},
     "output_type": "execute_result"
    }
   ],
   "source": [
    "# 2) Contrôler l'égalité des variances avec un Fisher-Snedecor F-test\n",
    "from scipy.stats import f\n",
    "f(X0,X1)\n",
    "\n",
    "# Anova unidirectionnelle\n",
    "import scipy.stats as stats\n",
    "stats.f_oneway(X0,X1)"
   ]
  },
  {
   "cell_type": "code",
   "execution_count": 100,
   "metadata": {},
   "outputs": [
    {
     "name": "stdout",
     "output_type": "stream",
     "text": [
      "Ttest_indResult(statistic=2.9163194727110047, pvalue=0.0040861078556203466)\n"
     ]
    }
   ],
   "source": [
    "# Comparons les deux échantillons pour voir s'ils sont significativement différents\n",
    "import scipy.stats as stats\n",
    "y = stats.ttest_ind(X0,X1) ; print(y)"
   ]
  },
  {
   "cell_type": "code",
   "execution_count": 101,
   "metadata": {},
   "outputs": [
    {
     "name": "stdout",
     "output_type": "stream",
     "text": [
      "0.0040861078556203466\n"
     ]
    }
   ],
   "source": [
    "print(y[1])\n",
    "# la p-value est inférieure au seuil de significativité 0,05, nous acceptons H1:\n",
    "# les valeurs moyennes des catégories 0 et 1 sont significativement différentes"
   ]
  },
  {
   "cell_type": "code",
   "execution_count": null,
   "metadata": {},
   "outputs": [],
   "source": []
  },
  {
   "cell_type": "markdown",
   "metadata": {},
   "source": [
    "### Section 3.6: La probabilité qu’un client achète la référence 0_525 sachant qu’il a acheté la référence 2_159 <a class=\"anchor\" id=\"section_3_6\"></a>\n"
   ]
  },
  {
   "cell_type": "code",
   "execution_count": 102,
   "metadata": {},
   "outputs": [
    {
     "data": {
      "text/html": [
       "<div>\n",
       "<style scoped>\n",
       "    .dataframe tbody tr th:only-of-type {\n",
       "        vertical-align: middle;\n",
       "    }\n",
       "\n",
       "    .dataframe tbody tr th {\n",
       "        vertical-align: top;\n",
       "    }\n",
       "\n",
       "    .dataframe thead th {\n",
       "        text-align: right;\n",
       "    }\n",
       "</style>\n",
       "<table border=\"1\" class=\"dataframe\">\n",
       "  <thead>\n",
       "    <tr style=\"text-align: right;\">\n",
       "      <th></th>\n",
       "      <th>session_id</th>\n",
       "      <th>client_id</th>\n",
       "      <th>sex</th>\n",
       "      <th>birth</th>\n",
       "      <th>id_prod</th>\n",
       "      <th>price</th>\n",
       "      <th>categ</th>\n",
       "      <th>date_jours</th>\n",
       "    </tr>\n",
       "  </thead>\n",
       "  <tbody>\n",
       "    <tr>\n",
       "      <th>0</th>\n",
       "      <td>s_211425</td>\n",
       "      <td>c_103</td>\n",
       "      <td>f</td>\n",
       "      <td>1986</td>\n",
       "      <td>0_1518</td>\n",
       "      <td>4.18</td>\n",
       "      <td>0.0</td>\n",
       "      <td>2022-05-20</td>\n",
       "    </tr>\n",
       "    <tr>\n",
       "      <th>1</th>\n",
       "      <td>s_158752</td>\n",
       "      <td>c_8534</td>\n",
       "      <td>m</td>\n",
       "      <td>1988</td>\n",
       "      <td>1_251</td>\n",
       "      <td>15.99</td>\n",
       "      <td>1.0</td>\n",
       "      <td>2022-02-02</td>\n",
       "    </tr>\n",
       "    <tr>\n",
       "      <th>2</th>\n",
       "      <td>s_225667</td>\n",
       "      <td>c_6714</td>\n",
       "      <td>f</td>\n",
       "      <td>1968</td>\n",
       "      <td>0_1277</td>\n",
       "      <td>7.99</td>\n",
       "      <td>0.0</td>\n",
       "      <td>2022-06-18</td>\n",
       "    </tr>\n",
       "    <tr>\n",
       "      <th>3</th>\n",
       "      <td>s_52962</td>\n",
       "      <td>c_6941</td>\n",
       "      <td>m</td>\n",
       "      <td>2000</td>\n",
       "      <td>2_209</td>\n",
       "      <td>69.99</td>\n",
       "      <td>2.0</td>\n",
       "      <td>2021-06-24</td>\n",
       "    </tr>\n",
       "    <tr>\n",
       "      <th>4</th>\n",
       "      <td>s_325227</td>\n",
       "      <td>c_4232</td>\n",
       "      <td>m</td>\n",
       "      <td>1980</td>\n",
       "      <td>0_1509</td>\n",
       "      <td>4.99</td>\n",
       "      <td>0.0</td>\n",
       "      <td>2023-01-11</td>\n",
       "    </tr>\n",
       "  </tbody>\n",
       "</table>\n",
       "</div>"
      ],
      "text/plain": [
       "  session_id client_id sex  birth id_prod  price  categ  date_jours\n",
       "0   s_211425     c_103   f   1986  0_1518   4.18    0.0  2022-05-20\n",
       "1   s_158752    c_8534   m   1988   1_251  15.99    1.0  2022-02-02\n",
       "2   s_225667    c_6714   f   1968  0_1277   7.99    0.0  2022-06-18\n",
       "3    s_52962    c_6941   m   2000   2_209  69.99    2.0  2021-06-24\n",
       "4   s_325227    c_4232   m   1980  0_1509   4.99    0.0  2023-01-11"
      ]
     },
     "execution_count": 102,
     "metadata": {},
     "output_type": "execute_result"
    }
   ],
   "source": [
    "df_final.head()"
   ]
  },
  {
   "cell_type": "code",
   "execution_count": 103,
   "metadata": {},
   "outputs": [
    {
     "name": "stdout",
     "output_type": "stream",
     "text": [
      "Ainsi, 530 clients ont achetés l'id_prod 2_159.\n"
     ]
    }
   ],
   "source": [
    "df_clients_B = df_final[df_final[\"id_prod\"] == '2_159']\n",
    "df_clients_B = df_clients_B.drop_duplicates(subset = 'client_id')\n",
    "p_B = len(df_clients_B) \n",
    "print(\"Ainsi,\", p_B ,\"clients ont achetés l'id_prod 2_159.\")"
   ]
  },
  {
   "cell_type": "code",
   "execution_count": 104,
   "metadata": {},
   "outputs": [
    {
     "name": "stdout",
     "output_type": "stream",
     "text": [
      "Ainsi, parmi les clients ayants achetés l'id_prod 2_159, 459  ont aussi acheté id_prod 0_525.\n"
     ]
    }
   ],
   "source": [
    "df_clients_A = df_final[df_final[\"id_prod\"] == '0_525']\n",
    "df_clients_A = df_clients_A.drop_duplicates(subset = 'client_id')\n",
    "df_clients_AetB = df_clients_A.merge(df_clients_B, how = 'inner', on = \"client_id\" )\n",
    "p_AetB = len(df_clients_AetB)\n",
    "\n",
    "print(\"Ainsi, parmi les clients ayants achetés l'id_prod 2_159,\", p_AetB, \" ont aussi acheté id_prod 0_525.\")"
   ]
  },
  {
   "cell_type": "code",
   "execution_count": 105,
   "metadata": {},
   "outputs": [
    {
     "name": "stdout",
     "output_type": "stream",
     "text": [
      "Pour conclure, la probabilité qu'un client achète A en ayant acheté B également est de: 86.6 %.\n"
     ]
    }
   ],
   "source": [
    "resultat =  round((p_AetB / p_B)*100,2)\n",
    "print(\"Pour conclure, la probabilité qu'un client achète A en ayant acheté B également est de:\", resultat,\"%.\")"
   ]
  },
  {
   "cell_type": "code",
   "execution_count": null,
   "metadata": {},
   "outputs": [],
   "source": []
  },
  {
   "cell_type": "code",
   "execution_count": null,
   "metadata": {},
   "outputs": [],
   "source": []
  }
 ],
 "metadata": {
  "kernelspec": {
   "display_name": "Python 3",
   "language": "python",
   "name": "python3"
  },
  "language_info": {
   "codemirror_mode": {
    "name": "ipython",
    "version": 3
   },
   "file_extension": ".py",
   "mimetype": "text/x-python",
   "name": "python",
   "nbconvert_exporter": "python",
   "pygments_lexer": "ipython3",
   "version": "3.8.5"
  }
 },
 "nbformat": 4,
 "nbformat_minor": 4
}
